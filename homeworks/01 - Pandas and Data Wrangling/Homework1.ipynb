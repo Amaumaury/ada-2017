{
 "cells": [
  {
   "cell_type": "markdown",
   "metadata": {},
   "source": [
    "# Table of Contents\n",
    " <p><div class=\"lev1\"><a href=\"#Task-1.-Compiling-Ebola-Data\"><span class=\"toc-item-num\">Task 1.&nbsp;&nbsp;</span>Compiling Ebola Data</a></div>\n",
    " <div class=\"lev1\"><a href=\"#Task-2.-RNA-Sequences\"><span class=\"toc-item-num\">Task 2.&nbsp;&nbsp;</span>RNA Sequences</a></div>\n",
    " <div class=\"lev1\"><a href=\"#Task-3.-Class-War-in-Titanic\"><span class=\"toc-item-num\">Task 3.&nbsp;&nbsp;</span>Class War in Titanic</a></div></p>"
   ]
  },
  {
   "cell_type": "code",
   "execution_count": 1,
   "metadata": {
    "collapsed": true
   },
   "outputs": [],
   "source": [
    "import pandas as pd\n",
    "import numpy as np\n",
    "import glob, os\n",
    "import random\n",
    "from IPython.core.display import HTML\n",
    "import matplotlib.pyplot as plt\n",
    "import seaborn as sns\n",
    "\n",
    "pd.options.mode.chained_assignment = None\n",
    "idx = pd.IndexSlice"
   ]
  },
  {
   "cell_type": "code",
   "execution_count": 2,
   "metadata": {
    "collapsed": true
   },
   "outputs": [],
   "source": [
    "DATA_FOLDER = './Data' # Use the data folder provided in Tutorial 02 - Intro to Pandas."
   ]
  },
  {
   "cell_type": "markdown",
   "metadata": {},
   "source": [
    "## Task 1. Compiling Ebola Data\n",
    "\n",
    "The `DATA_FOLDER/ebola` folder contains summarized reports of Ebola cases from three countries (Guinea, Liberia and Sierra Leone) during the recent outbreak of the disease in West Africa. For each country, there are daily reports that contain various information about the outbreak in several cities in each country.\n",
    "\n",
    "Use pandas to import these data files into a single `Dataframe`.\n",
    "Using this `DataFrame`, calculate for *each country*, the *daily average per month* of *new cases* and *deaths*.\n",
    "Make sure you handle all the different expressions for *new cases* and *deaths* that are used in the reports."
   ]
  },
  {
   "cell_type": "markdown",
   "metadata": {},
   "source": [
    "***"
   ]
  },
  {
   "cell_type": "markdown",
   "metadata": {},
   "source": [
    "### Assumptions"
   ]
  },
  {
   "cell_type": "markdown",
   "metadata": {},
   "source": [
    "In order to clean the data, we made the following assumptions : \n",
    "- A person, counted in one of the three categories (i.e. confirmed, suspect, probable) for deaths and cases, can't be counted in another category. This reasonnable assumption guarantees that we are not counting people multiple times when computing the means.\n",
    "- As told during the lab session, we consider the Totals/National field for each country as consistent with respect to the different region/cities reports\n",
    "- Cumulative description/variable (e.g. Total deaths of confirmed) are assumed to carry all items from previous days that has not been registered. More precisely, let d1 and d2 be two dates such that d1 < d2  and d2 - d1 > 1 (with respect to time). Then d2 contains information about the corresponding description from d1 + 1 to d2. "
   ]
  },
  {
   "cell_type": "markdown",
   "metadata": {},
   "source": [
    "***"
   ]
  },
  {
   "cell_type": "markdown",
   "metadata": {},
   "source": [
    "### Loading the data for each country"
   ]
  },
  {
   "cell_type": "code",
   "execution_count": 3,
   "metadata": {
    "collapsed": true
   },
   "outputs": [],
   "source": [
    "def load_country(country_name):\n",
    "    return pd.concat(map(pd.read_csv, glob.glob(r'' + DATA_FOLDER + '/ebola/' + country_name + '_data/*.csv')))"
   ]
  },
  {
   "cell_type": "code",
   "execution_count": 4,
   "metadata": {},
   "outputs": [
    {
     "name": "stdout",
     "output_type": "stream",
     "text": [
      "Guinea: ['Beyla' 'Boffa' 'Conakry' 'Coyah' 'Dabola' 'Dalaba' 'Date' 'Description'\n",
      " 'Dinguiraye' 'Dubreka' 'Forecariah' 'Gueckedou' 'Kerouane' 'Kindia'\n",
      " 'Kissidougou' 'Kouroussa' 'Lola' 'Macenta' 'Mzerekore' 'Nzerekore' 'Pita'\n",
      " 'Siguiri' 'Telimele' 'Totals' 'Yomou']\n",
      "Liberia: ['Bomi County' 'Bong County' 'Date' 'Gbarpolu County' 'Grand Bassa'\n",
      " 'Grand Cape Mount' 'Grand Gedeh' 'Grand Kru' 'Lofa County'\n",
      " 'Margibi County' 'Maryland County' 'Montserrado County' 'National'\n",
      " 'Nimba County' 'River Gee County' 'RiverCess County' 'Sinoe County'\n",
      " 'Unnamed: 18' 'Variable']\n",
      "Sierra Leone: ['34 Military Hospital' 'Bo' 'Bo EMC' 'Bombali' 'Bonthe' 'Hastings-F/Town'\n",
      " 'Kailahun' 'Kambia' 'Kenema' 'Kenema (IFRC)' 'Kenema (KGH)' 'Koinadugu'\n",
      " 'Kono' 'Moyamba' 'National' 'Police training School'\n",
      " 'Police traning School' 'Port Loko' 'Pujehun' 'Tonkolili' 'Unnamed: 18'\n",
      " 'Western area' 'Western area combined' 'Western area rural'\n",
      " 'Western area urban' 'date' 'variable']\n"
     ]
    }
   ],
   "source": [
    "#Load the data into a dataframe for each country\n",
    "guinea_dataframe = load_country('guinea')\n",
    "liberia_dataframe = load_country('liberia')\n",
    "sierraleone_dataframe = load_country('sl')\n",
    "\n",
    "#Print columns label\n",
    "print('Guinea:', guinea_dataframe.columns.get_values())\n",
    "print('Liberia:', liberia_dataframe.columns.get_values())\n",
    "print('Sierra Leone:', sierraleone_dataframe.columns.get_values())"
   ]
  },
  {
   "cell_type": "markdown",
   "metadata": {},
   "source": [
    "***"
   ]
  },
  {
   "cell_type": "markdown",
   "metadata": {},
   "source": [
    "### Selecting the interesting descriptions/variables "
   ]
  },
  {
   "cell_type": "code",
   "execution_count": 5,
   "metadata": {},
   "outputs": [
    {
     "name": "stdout",
     "output_type": "stream",
     "text": [
      "60\n",
      "45\n",
      "37\n"
     ]
    }
   ],
   "source": [
    "guinea_descriptions = set(guinea_dataframe.Description.values.tolist())\n",
    "liberia_descriptions = set(liberia_dataframe.Variable.values.tolist())\n",
    "sierraleone_descriptions = set(sierraleone_dataframe.variable.values.tolist())\n",
    "\n",
    "print(len(guinea_descriptions))\n",
    "print(len(liberia_descriptions))\n",
    "print(len(sierraleone_descriptions))"
   ]
  },
  {
   "cell_type": "code",
   "execution_count": 6,
   "metadata": {
    "collapsed": true,
    "scrolled": false
   },
   "outputs": [],
   "source": [
    "# All possible descriptions for guinea\n",
    "\n",
    "#print(guinea_descriptions)\n",
    "\n",
    "# From which we decided to keep only the following descriptions\n",
    "filtered_guinea_descriptions = ['New cases of confirmed', \n",
    "                                'New cases of suspects', \n",
    "                                'New cases of probables',\n",
    "                                'Total deaths of confirmed',\n",
    "                                'Total deaths of suspects',\n",
    "                                'Total deaths of probables'];\n",
    "\n",
    "# Rename dictionary that will be useful later\n",
    "guinea_rename_dict = {'New cases of confirmed': 'cases confirmed',\n",
    "                      'New cases of suspects': 'cases suspected',\n",
    "                      'New cases of probables': 'cases probable',\n",
    "                      'Total deaths of confirmed': 'deaths confirmed',\n",
    "                      'Total deaths of suspects': 'deaths suspected',\n",
    "                      'Total deaths of probables': 'deaths probable'}"
   ]
  },
  {
   "cell_type": "markdown",
   "metadata": {},
   "source": [
    "For guinea, the descriptions 'New deaths registered today (probables)' and 'New deaths registered today (suspects)' or not really interesting as there are only available for one day and equal to 0. Moreover the description 'New deaths registered today (confirmed)' is also available during only one day and is a redundancy of the description 'New deaths registered today'. Thus we decided to drop those descriptions."
   ]
  },
  {
   "cell_type": "code",
   "execution_count": 7,
   "metadata": {
    "collapsed": true,
    "scrolled": false
   },
   "outputs": [],
   "source": [
    "# All possible descriptions for liberia\n",
    "\n",
    "#print(liberia_descriptions)\n",
    "\n",
    "# From which we decided to keep only the following descriptions\n",
    "filtered_liberia_descriptions = ['New case/s (confirmed)', \n",
    "                                 'New Case/s (Suspected)', \n",
    "                                 'New Case/s (Probable)',\n",
    "                                 'Total death/s in confirmed cases',\n",
    "                                 'Total death/s in suspected cases',\n",
    "                                 'Total death/s in probable cases']\n",
    "\n",
    "liberia_rename_dict = {'New case/s (confirmed)': 'cases confirmed',\n",
    "                       'New Case/s (Suspected)': 'cases suspected',\n",
    "                       'New Case/s (Probable)': 'cases probable',\n",
    "                       'Total death/s in confirmed cases': 'deaths confirmed',\n",
    "                       'Total death/s in suspected cases': 'deaths suspected',\n",
    "                       'Total death/s in probable cases': 'deaths probable'}"
   ]
  },
  {
   "cell_type": "code",
   "execution_count": 8,
   "metadata": {
    "collapsed": true,
    "scrolled": true
   },
   "outputs": [],
   "source": [
    "# All possible descriptions for Sierra Leone\n",
    "\n",
    "#print(sierraleone_descriptions)\n",
    "\n",
    "# From which we decided to keep only the following descriptions\n",
    "filtered_sierraleone_descriptions = ['death_confirmed', \n",
    "                                     'death_probable', \n",
    "                                     'death_suspected',\n",
    "                                     'new_confirmed', \n",
    "                                     'new_probable', \n",
    "                                     'new_suspected']\n",
    "\n",
    "sierraleone_rename_dict = {'death_confirmed': 'deaths confirmed',\n",
    "                           'death_suspected': 'deaths suspected',\n",
    "                           'death_probable': 'deaths probable',\n",
    "                           'new_confirmed': 'cases confirmed',\n",
    "                           'new_probable': 'cases probable',\n",
    "                           'new_suspected': 'cases suspected'}"
   ]
  },
  {
   "cell_type": "markdown",
   "metadata": {},
   "source": [
    "***"
   ]
  },
  {
   "cell_type": "markdown",
   "metadata": {},
   "source": [
    "### Cleaning the dataframes"
   ]
  },
  {
   "cell_type": "markdown",
   "metadata": {},
   "source": [
    "#### General cleaning"
   ]
  },
  {
   "cell_type": "code",
   "execution_count": 9,
   "metadata": {},
   "outputs": [
    {
     "name": "stdout",
     "output_type": "stream",
     "text": [
      "Guinea has duplicates ? False\n",
      "Liberia has duplicates ? True\n",
      "Sierra Leone has duplicates ? True\n"
     ]
    }
   ],
   "source": [
    "# Check for duplicates\n",
    "print('Guinea has duplicates ?', True in guinea_dataframe.duplicated(subset=['Date', 'Description']).values)\n",
    "print('Liberia has duplicates ?', True in liberia_dataframe.duplicated(subset=['Date', 'Variable']).values)\n",
    "print('Sierra Leone has duplicates ?', True in sierraleone_dataframe.duplicated(subset=['date', 'variable']).values)"
   ]
  },
  {
   "cell_type": "code",
   "execution_count": 10,
   "metadata": {
    "collapsed": true
   },
   "outputs": [],
   "source": [
    "# Remove duplicates\n",
    "liberia_dataframe = liberia_dataframe.drop_duplicates(['Date', 'Variable'])\n",
    "sierraleone_dataframe = sierraleone_dataframe.drop_duplicates(['date', 'variable'])"
   ]
  },
  {
   "cell_type": "code",
   "execution_count": 11,
   "metadata": {
    "collapsed": true
   },
   "outputs": [],
   "source": [
    "# Keep only interesting columns\n",
    "guinea_dataframe = guinea_dataframe[['Date', 'Description', 'Totals']]\n",
    "liberia_dataframe = liberia_dataframe[['Date', 'Variable', 'National']]\n",
    "sierraleone_dataframe = sierraleone_dataframe[['date', 'variable', 'National']]\n",
    "\n",
    "# Standardize the date field for each dataframe\n",
    "guinea_dataframe.Date = pd.to_datetime(guinea_dataframe.Date)\n",
    "liberia_dataframe.Date = pd.to_datetime(liberia_dataframe.Date)\n",
    "sierraleone_dataframe.date = pd.to_datetime(sierraleone_dataframe.date)\n",
    "\n",
    "# Keep only the insteresting variables/descriptions\n",
    "guinea_dataframe = guinea_dataframe[[des in filtered_guinea_descriptions for des in guinea_dataframe.Description]]\n",
    "liberia_dataframe = liberia_dataframe[[var in filtered_liberia_descriptions for var in liberia_dataframe.Variable]]\n",
    "sierraleone_dataframe = sierraleone_dataframe[[var in filtered_sierraleone_descriptions for var in sierraleone_dataframe.variable]]\n",
    "\n",
    "# Remove rows with missing value\n",
    "guinea_dataframe = guinea_dataframe.dropna()\n",
    "liberia_dataframe = liberia_dataframe.dropna()\n",
    "sierraleone_dataframe = sierraleone_dataframe.dropna()\n",
    "\n",
    "# Cast all values to int\n",
    "guinea_dataframe.Totals = guinea_dataframe.Totals.astype(int)\n",
    "liberia_dataframe.National = liberia_dataframe.National.astype(int)\n",
    "sierraleone_dataframe.National = sierraleone_dataframe.National.astype(int)\n",
    "\n",
    "# Rename all reports (i.e. variable/description)\n",
    "guinea_dataframe.Description = guinea_dataframe.Description.apply(lambda des: guinea_rename_dict[des]) \n",
    "liberia_dataframe.Variable = liberia_dataframe.Variable.apply(lambda var: liberia_rename_dict[var])\n",
    "sierraleone_dataframe.variable = sierraleone_dataframe.variable.apply(lambda var: sierraleone_rename_dict[var])\n"
   ]
  },
  {
   "cell_type": "markdown",
   "metadata": {},
   "source": [
    "#### Cleaning Guinea dataframe"
   ]
  },
  {
   "cell_type": "markdown",
   "metadata": {},
   "source": [
    "After looking at the guinea dataframe, we noticed that the original 'Total deaths...' descriptions were cumulative values. We thus had to get the daily new deaths cases for each day. This is what is done in the cell below."
   ]
  },
  {
   "cell_type": "code",
   "execution_count": 12,
   "metadata": {
    "collapsed": true
   },
   "outputs": [],
   "source": [
    "def clean_cum_guinea(des_name, df):\n",
    "    r_df = df.copy()\n",
    "    guinea_parts_to_clean = r_df[r_df.Description == des_name]\n",
    "    guinea_parts_to_clean = guinea_parts_to_clean.set_index(['Date', 'Description']).sort_index()\n",
    "    \n",
    "    cleaned_guinea_parts = (guinea_parts_to_clean - guinea_parts_to_clean.shift(1))\n",
    "    \n",
    "    idx = pd.IndexSlice\n",
    "    r_df = r_df.set_index(['Date', 'Description']).sort_index()\n",
    "    r_df.loc[idx[:, [des_name]], :] = cleaned_guinea_parts\n",
    "    r_df = r_df.dropna().reset_index()\n",
    "    return r_df\n",
    "    \n",
    "guinea_dataframe = clean_cum_guinea('deaths confirmed', guinea_dataframe)\n",
    "guinea_dataframe = clean_cum_guinea('deaths suspected', guinea_dataframe)\n",
    "guinea_dataframe = clean_cum_guinea('deaths probable', guinea_dataframe)"
   ]
  },
  {
   "cell_type": "markdown",
   "metadata": {},
   "source": [
    "Notice from the guinea dataframe below that **some reports yield negative values**. Unless they were giving unexpected average values, we generaly decided to interpret them as corrections on previous reports and thus keep them. "
   ]
  },
  {
   "cell_type": "code",
   "execution_count": 13,
   "metadata": {
    "scrolled": true
   },
   "outputs": [
    {
     "data": {
      "text/html": [
       "<div>\n",
       "<style>\n",
       "    .dataframe thead tr:only-child th {\n",
       "        text-align: right;\n",
       "    }\n",
       "\n",
       "    .dataframe thead th {\n",
       "        text-align: left;\n",
       "    }\n",
       "\n",
       "    .dataframe tbody tr th {\n",
       "        vertical-align: top;\n",
       "    }\n",
       "</style>\n",
       "<table border=\"1\" class=\"dataframe\">\n",
       "  <thead>\n",
       "    <tr style=\"text-align: right;\">\n",
       "      <th></th>\n",
       "      <th>Date</th>\n",
       "      <th>Description</th>\n",
       "      <th>Totals</th>\n",
       "    </tr>\n",
       "  </thead>\n",
       "  <tbody>\n",
       "    <tr>\n",
       "      <th>117</th>\n",
       "      <td>2014-09-30</td>\n",
       "      <td>cases probable</td>\n",
       "      <td>0.0</td>\n",
       "    </tr>\n",
       "    <tr>\n",
       "      <th>118</th>\n",
       "      <td>2014-09-30</td>\n",
       "      <td>cases suspected</td>\n",
       "      <td>4.0</td>\n",
       "    </tr>\n",
       "    <tr>\n",
       "      <th>119</th>\n",
       "      <td>2014-09-30</td>\n",
       "      <td>deaths confirmed</td>\n",
       "      <td>-129.0</td>\n",
       "    </tr>\n",
       "    <tr>\n",
       "      <th>120</th>\n",
       "      <td>2014-09-30</td>\n",
       "      <td>deaths probable</td>\n",
       "      <td>-319.0</td>\n",
       "    </tr>\n",
       "    <tr>\n",
       "      <th>121</th>\n",
       "      <td>2014-10-01</td>\n",
       "      <td>cases confirmed</td>\n",
       "      <td>6.0</td>\n",
       "    </tr>\n",
       "    <tr>\n",
       "      <th>122</th>\n",
       "      <td>2014-10-01</td>\n",
       "      <td>cases probable</td>\n",
       "      <td>0.0</td>\n",
       "    </tr>\n",
       "    <tr>\n",
       "      <th>123</th>\n",
       "      <td>2014-10-01</td>\n",
       "      <td>cases suspected</td>\n",
       "      <td>28.0</td>\n",
       "    </tr>\n",
       "    <tr>\n",
       "      <th>124</th>\n",
       "      <td>2014-10-01</td>\n",
       "      <td>deaths confirmed</td>\n",
       "      <td>23.0</td>\n",
       "    </tr>\n",
       "    <tr>\n",
       "      <th>125</th>\n",
       "      <td>2014-10-01</td>\n",
       "      <td>deaths probable</td>\n",
       "      <td>2.0</td>\n",
       "    </tr>\n",
       "    <tr>\n",
       "      <th>126</th>\n",
       "      <td>2014-10-01</td>\n",
       "      <td>deaths suspected</td>\n",
       "      <td>-169.0</td>\n",
       "    </tr>\n",
       "  </tbody>\n",
       "</table>\n",
       "</div>"
      ],
      "text/plain": [
       "          Date       Description  Totals\n",
       "117 2014-09-30    cases probable     0.0\n",
       "118 2014-09-30   cases suspected     4.0\n",
       "119 2014-09-30  deaths confirmed  -129.0\n",
       "120 2014-09-30   deaths probable  -319.0\n",
       "121 2014-10-01   cases confirmed     6.0\n",
       "122 2014-10-01    cases probable     0.0\n",
       "123 2014-10-01   cases suspected    28.0\n",
       "124 2014-10-01  deaths confirmed    23.0\n",
       "125 2014-10-01   deaths probable     2.0\n",
       "126 2014-10-01  deaths suspected  -169.0"
      ]
     },
     "execution_count": 13,
     "metadata": {},
     "output_type": "execute_result"
    }
   ],
   "source": [
    "guinea_dataframe[-10:]"
   ]
  },
  {
   "cell_type": "markdown",
   "metadata": {},
   "source": [
    "#### Cleaning Liberia dataframe"
   ]
  },
  {
   "cell_type": "code",
   "execution_count": 14,
   "metadata": {
    "collapsed": true
   },
   "outputs": [],
   "source": [
    "# Last record for in liberia_new_deaths_... is equal to 0 which is a dirty value as it should be greater than the value in the precedent record\n",
    "# '...' here means {'confirmed', 'probable', 'suspected'}\n",
    "\n",
    "liberia_dataframe = liberia_dataframe.set_index(['Date', 'Variable']).sort_index()\n",
    "\n",
    "index0 = liberia_dataframe.loc[idx[:, 'deaths confirmed'], :][-1:].index\n",
    "index1 = liberia_dataframe.loc[idx[:, 'deaths probable'], :][-1:].index\n",
    "index2 = liberia_dataframe.loc[idx[:, 'deaths suspected'], :][-1:].index\n",
    "\n",
    "liberia_dataframe = liberia_dataframe.drop(index0)\n",
    "liberia_dataframe = liberia_dataframe.drop(index1)\n",
    "liberia_dataframe = liberia_dataframe.drop(index2)\n",
    "\n",
    "liberia_dataframe = liberia_dataframe.reset_index()"
   ]
  },
  {
   "cell_type": "markdown",
   "metadata": {},
   "source": [
    "We can see, from the liberia datafame below, that some rows at the end are dirty as they switch to a cumulative fashion. "
   ]
  },
  {
   "cell_type": "code",
   "execution_count": 15,
   "metadata": {
    "scrolled": true
   },
   "outputs": [
    {
     "data": {
      "text/html": [
       "<div>\n",
       "<style>\n",
       "    .dataframe thead tr:only-child th {\n",
       "        text-align: right;\n",
       "    }\n",
       "\n",
       "    .dataframe thead th {\n",
       "        text-align: left;\n",
       "    }\n",
       "\n",
       "    .dataframe tbody tr th {\n",
       "        vertical-align: top;\n",
       "    }\n",
       "</style>\n",
       "<table border=\"1\" class=\"dataframe\">\n",
       "  <thead>\n",
       "    <tr style=\"text-align: right;\">\n",
       "      <th></th>\n",
       "      <th>Date</th>\n",
       "      <th>Variable</th>\n",
       "      <th>National</th>\n",
       "    </tr>\n",
       "  </thead>\n",
       "  <tbody>\n",
       "    <tr>\n",
       "      <th>435</th>\n",
       "      <td>2014-12-06</td>\n",
       "      <td>cases suspected</td>\n",
       "      <td>3056</td>\n",
       "    </tr>\n",
       "    <tr>\n",
       "      <th>436</th>\n",
       "      <td>2014-12-07</td>\n",
       "      <td>cases confirmed</td>\n",
       "      <td>2869</td>\n",
       "    </tr>\n",
       "    <tr>\n",
       "      <th>437</th>\n",
       "      <td>2014-12-07</td>\n",
       "      <td>cases probable</td>\n",
       "      <td>1829</td>\n",
       "    </tr>\n",
       "    <tr>\n",
       "      <th>438</th>\n",
       "      <td>2014-12-07</td>\n",
       "      <td>cases suspected</td>\n",
       "      <td>3067</td>\n",
       "    </tr>\n",
       "    <tr>\n",
       "      <th>439</th>\n",
       "      <td>2014-12-08</td>\n",
       "      <td>cases confirmed</td>\n",
       "      <td>2927</td>\n",
       "    </tr>\n",
       "    <tr>\n",
       "      <th>440</th>\n",
       "      <td>2014-12-08</td>\n",
       "      <td>cases probable</td>\n",
       "      <td>1805</td>\n",
       "    </tr>\n",
       "    <tr>\n",
       "      <th>441</th>\n",
       "      <td>2014-12-08</td>\n",
       "      <td>cases suspected</td>\n",
       "      <td>3054</td>\n",
       "    </tr>\n",
       "    <tr>\n",
       "      <th>442</th>\n",
       "      <td>2014-12-09</td>\n",
       "      <td>cases confirmed</td>\n",
       "      <td>2946</td>\n",
       "    </tr>\n",
       "    <tr>\n",
       "      <th>443</th>\n",
       "      <td>2014-12-09</td>\n",
       "      <td>cases probable</td>\n",
       "      <td>1801</td>\n",
       "    </tr>\n",
       "    <tr>\n",
       "      <th>444</th>\n",
       "      <td>2014-12-09</td>\n",
       "      <td>cases suspected</td>\n",
       "      <td>3050</td>\n",
       "    </tr>\n",
       "  </tbody>\n",
       "</table>\n",
       "</div>"
      ],
      "text/plain": [
       "          Date         Variable  National\n",
       "435 2014-12-06  cases suspected      3056\n",
       "436 2014-12-07  cases confirmed      2869\n",
       "437 2014-12-07   cases probable      1829\n",
       "438 2014-12-07  cases suspected      3067\n",
       "439 2014-12-08  cases confirmed      2927\n",
       "440 2014-12-08   cases probable      1805\n",
       "441 2014-12-08  cases suspected      3054\n",
       "442 2014-12-09  cases confirmed      2946\n",
       "443 2014-12-09   cases probable      1801\n",
       "444 2014-12-09  cases suspected      3050"
      ]
     },
     "execution_count": 15,
     "metadata": {},
     "output_type": "execute_result"
    }
   ],
   "source": [
    "liberia_dataframe[-10:]"
   ]
  },
  {
   "cell_type": "code",
   "execution_count": 16,
   "metadata": {
    "collapsed": true
   },
   "outputs": [],
   "source": [
    "# This cell deals with the cumulative values found at the end of the dataframe for certain reports\n",
    "\n",
    "dirty_rows_liberia = liberia_dataframe[liberia_dataframe.Date > pd.datetime(2014, 12, 2)]\n",
    "dirty_rows_liberia = dirty_rows_liberia.set_index(['Date', 'Variable']).sort_index()\n",
    "\n",
    "cleaned_rows_liberia = dirty_rows_liberia - dirty_rows_liberia.shift(3)\n",
    "\n",
    "liberia_dataframe = liberia_dataframe.set_index(['Date', 'Variable']).sort_index()\n",
    "liberia_dataframe.loc[pd.datetime(2014, 12, 4):, :] = cleaned_rows_liberia\n",
    "liberia_dataframe = liberia_dataframe.dropna().reset_index()"
   ]
  },
  {
   "cell_type": "code",
   "execution_count": 17,
   "metadata": {
    "collapsed": true
   },
   "outputs": [],
   "source": [
    "# This cell deals with cumulative records (similar to the guinea cleaning case)\n",
    "\n",
    "def clean_cum_liberia(des_name, df):\n",
    "    r_df = df.copy()\n",
    "    liberia_parts_to_clean = r_df[r_df.Variable == des_name]\n",
    "    liberia_parts_to_clean = liberia_parts_to_clean.set_index(['Date', 'Variable']).sort_index()\n",
    "    \n",
    "    cleaned_liberia_parts = (liberia_parts_to_clean - liberia_parts_to_clean.shift(1))\n",
    "    \n",
    "    idx = pd.IndexSlice\n",
    "    r_df = r_df.set_index(['Date', 'Variable']).sort_index()\n",
    "    r_df.loc[idx[:, [des_name]], :] = cleaned_liberia_parts\n",
    "    r_df = r_df.dropna().reset_index()\n",
    "    return r_df\n",
    "\n",
    "liberia_dataframe = clean_cum_liberia('deaths confirmed', liberia_dataframe)\n",
    "liberia_dataframe = clean_cum_liberia('deaths suspected', liberia_dataframe)\n",
    "liberia_dataframe = clean_cum_liberia('deaths probable', liberia_dataframe)"
   ]
  },
  {
   "cell_type": "markdown",
   "metadata": {},
   "source": [
    "#### Cleaning Sierra Leone dataframe"
   ]
  },
  {
   "cell_type": "code",
   "execution_count": 18,
   "metadata": {
    "collapsed": true
   },
   "outputs": [],
   "source": [
    "# This cell deals with cumulative values (similar to guinea and liberia cases)\n",
    "\n",
    "sierraleone_dataframe_copy = sierraleone_dataframe.copy().set_index(['date', 'variable']).unstack()\n",
    "tmp = sierraleone_dataframe.set_index(['date', 'variable']).unstack()\n",
    "tmp = tmp.National[['deaths confirmed', 'deaths probable', 'deaths suspected']]\n",
    "cleaned = (tmp - tmp.shift(1)).fillna(value=0)\n",
    "\n",
    "sierraleone_dataframe_copy.National.loc[1:, ['deaths confirmed', 'deaths probable', 'deaths suspected']] = cleaned[1:]\n",
    "sierraleone_dataframe = sierraleone_dataframe_copy.stack().reset_index()[3:]"
   ]
  },
  {
   "cell_type": "code",
   "execution_count": 19,
   "metadata": {
    "collapsed": true
   },
   "outputs": [],
   "source": [
    "# Remove first three lines \n",
    "sierraleone_dataframe = sierraleone_dataframe[3:]"
   ]
  },
  {
   "cell_type": "markdown",
   "metadata": {},
   "source": [
    "***"
   ]
  },
  {
   "cell_type": "markdown",
   "metadata": {},
   "source": [
    "### Aggregation and merging"
   ]
  },
  {
   "cell_type": "code",
   "execution_count": 20,
   "metadata": {
    "collapsed": true
   },
   "outputs": [],
   "source": [
    "# Keeps only the year and month of each report\n",
    "guinea_dataframe['Period'] = guinea_dataframe.Date.dt.to_period('M')\n",
    "liberia_dataframe['Period'] = liberia_dataframe.Date.dt.to_period('M')\n",
    "sierraleone_dataframe['Period'] = sierraleone_dataframe.date.dt.to_period('M')\n",
    "\n",
    "# Keep only the day number of the month. It will be necessary when computing the means\n",
    "guinea_dataframe.Date = guinea_dataframe.Date.apply(lambda x: x.day)\n",
    "liberia_dataframe.Date = liberia_dataframe.Date.apply(lambda x: x.day)\n",
    "sierraleone_dataframe.date = sierraleone_dataframe.date.apply(lambda x: x.day)\n",
    "\n",
    "# Add a country column to each dataframe. This is required to merge the 3 different dataframes.\n",
    "guinea_dataframe['Country'] = 'Guinea'\n",
    "liberia_dataframe['Country'] = 'Liberia'\n",
    "sierraleone_dataframe['Country'] = 'Sierraleone'"
   ]
  },
  {
   "cell_type": "code",
   "execution_count": 21,
   "metadata": {
    "collapsed": true
   },
   "outputs": [],
   "source": [
    "# Compute averages for each month\n",
    "averages_guinea_dataframe = pd.DataFrame(guinea_dataframe.groupby(['Country', 'Period', 'Description']).apply(lambda group: max(group['Totals'].sum() / group['Date'].max(), 0)))\n",
    "averages_liberia_dataframe = pd.DataFrame(liberia_dataframe.groupby(['Country', 'Period', 'Variable']).apply(lambda group: group['National'].sum() / group['Date'].max()))\n",
    "averages_sierraleone_dataframe = pd.DataFrame(sierraleone_dataframe.groupby(['Country', 'Period', 'variable']).apply(lambda group: group['National'].sum() / group['date'].max()))\n",
    "\n",
    "# Remove index\n",
    "averages_guinea_dataframe = averages_guinea_dataframe.reset_index()\n",
    "averages_liberia_dataframe = averages_liberia_dataframe.reset_index()\n",
    "averages_sierraleone_dataframe = averages_sierraleone_dataframe.reset_index()\n",
    "\n",
    "# Rename columns\n",
    "averages_guinea_dataframe.columns = ['country', 'date', 'report', 'average']\n",
    "averages_liberia_dataframe.columns = ['country', 'date', 'report', 'average']\n",
    "averages_sierraleone_dataframe.columns = ['country', 'date', 'report', 'average']\n",
    "\n",
    "# Stack all averages into one dataframe\n",
    "all_averages_dataframe = pd.concat([averages_guinea_dataframe, averages_liberia_dataframe, averages_sierraleone_dataframe])\n",
    "\n",
    "# Sort final dataframe, set index and unstack result (for readibility reasons)\n",
    "all_averages_dataframe = all_averages_dataframe.sort_values(['date']).set_index(['country', 'date', 'report']).unstack()\n"
   ]
  },
  {
   "cell_type": "code",
   "execution_count": 22,
   "metadata": {
    "scrolled": true
   },
   "outputs": [
    {
     "data": {
      "text/html": [
       "<div>\n",
       "<style>\n",
       "    .dataframe thead tr:only-child th {\n",
       "        text-align: right;\n",
       "    }\n",
       "\n",
       "    .dataframe thead th {\n",
       "        text-align: left;\n",
       "    }\n",
       "\n",
       "    .dataframe tbody tr th {\n",
       "        vertical-align: top;\n",
       "    }\n",
       "</style>\n",
       "<table border=\"1\" class=\"dataframe\">\n",
       "  <thead>\n",
       "    <tr>\n",
       "      <th></th>\n",
       "      <th></th>\n",
       "      <th colspan=\"6\" halign=\"left\">average</th>\n",
       "    </tr>\n",
       "    <tr>\n",
       "      <th></th>\n",
       "      <th>report</th>\n",
       "      <th>cases confirmed</th>\n",
       "      <th>cases probable</th>\n",
       "      <th>cases suspected</th>\n",
       "      <th>deaths confirmed</th>\n",
       "      <th>deaths probable</th>\n",
       "      <th>deaths suspected</th>\n",
       "    </tr>\n",
       "    <tr>\n",
       "      <th>country</th>\n",
       "      <th>date</th>\n",
       "      <th></th>\n",
       "      <th></th>\n",
       "      <th></th>\n",
       "      <th></th>\n",
       "      <th></th>\n",
       "      <th></th>\n",
       "    </tr>\n",
       "  </thead>\n",
       "  <tbody>\n",
       "    <tr>\n",
       "      <th rowspan=\"3\" valign=\"top\">Guinea</th>\n",
       "      <th>2014-08</th>\n",
       "      <td>2.000000</td>\n",
       "      <td>0.258065</td>\n",
       "      <td>1.903226</td>\n",
       "      <td>3.516129</td>\n",
       "      <td>0.548387</td>\n",
       "      <td>0.000000</td>\n",
       "    </tr>\n",
       "    <tr>\n",
       "      <th>2014-09</th>\n",
       "      <td>6.933333</td>\n",
       "      <td>0.633333</td>\n",
       "      <td>2.900000</td>\n",
       "      <td>6.733333</td>\n",
       "      <td>0.833333</td>\n",
       "      <td>6.423077</td>\n",
       "    </tr>\n",
       "    <tr>\n",
       "      <th>2014-10</th>\n",
       "      <td>6.000000</td>\n",
       "      <td>0.000000</td>\n",
       "      <td>28.000000</td>\n",
       "      <td>23.000000</td>\n",
       "      <td>2.000000</td>\n",
       "      <td>0.000000</td>\n",
       "    </tr>\n",
       "    <tr>\n",
       "      <th rowspan=\"7\" valign=\"top\">Liberia</th>\n",
       "      <th>2014-06</th>\n",
       "      <td>0.517241</td>\n",
       "      <td>0.275862</td>\n",
       "      <td>0.586207</td>\n",
       "      <td>0.620690</td>\n",
       "      <td>0.137931</td>\n",
       "      <td>0.379310</td>\n",
       "    </tr>\n",
       "    <tr>\n",
       "      <th>2014-07</th>\n",
       "      <td>0.769231</td>\n",
       "      <td>1.576923</td>\n",
       "      <td>1.269231</td>\n",
       "      <td>1.538462</td>\n",
       "      <td>1.923077</td>\n",
       "      <td>0.230769</td>\n",
       "    </tr>\n",
       "    <tr>\n",
       "      <th>2014-08</th>\n",
       "      <td>1.750000</td>\n",
       "      <td>6.357143</td>\n",
       "      <td>3.857143</td>\n",
       "      <td>9.107143</td>\n",
       "      <td>10.357143</td>\n",
       "      <td>6.964286</td>\n",
       "    </tr>\n",
       "    <tr>\n",
       "      <th>2014-09</th>\n",
       "      <td>4.933333</td>\n",
       "      <td>23.466667</td>\n",
       "      <td>22.666667</td>\n",
       "      <td>20.233333</td>\n",
       "      <td>10.833333</td>\n",
       "      <td>8.033333</td>\n",
       "    </tr>\n",
       "    <tr>\n",
       "      <th>2014-10</th>\n",
       "      <td>1.360000</td>\n",
       "      <td>14.322581</td>\n",
       "      <td>21.322581</td>\n",
       "      <td>20.090909</td>\n",
       "      <td>6.857143</td>\n",
       "      <td>8.714286</td>\n",
       "    </tr>\n",
       "    <tr>\n",
       "      <th>2014-11</th>\n",
       "      <td>1.300000</td>\n",
       "      <td>3.620690</td>\n",
       "      <td>8.724138</td>\n",
       "      <td>NaN</td>\n",
       "      <td>NaN</td>\n",
       "      <td>NaN</td>\n",
       "    </tr>\n",
       "    <tr>\n",
       "      <th>2014-12</th>\n",
       "      <td>9.888889</td>\n",
       "      <td>2.222222</td>\n",
       "      <td>4.333333</td>\n",
       "      <td>NaN</td>\n",
       "      <td>NaN</td>\n",
       "      <td>NaN</td>\n",
       "    </tr>\n",
       "    <tr>\n",
       "      <th rowspan=\"5\" valign=\"top\">Sierraleone</th>\n",
       "      <th>2014-08</th>\n",
       "      <td>11.612903</td>\n",
       "      <td>0.709677</td>\n",
       "      <td>3.193548</td>\n",
       "      <td>3.967742</td>\n",
       "      <td>0.096774</td>\n",
       "      <td>0.193548</td>\n",
       "    </tr>\n",
       "    <tr>\n",
       "      <th>2014-09</th>\n",
       "      <td>33.266667</td>\n",
       "      <td>0.000000</td>\n",
       "      <td>6.275862</td>\n",
       "      <td>5.433333</td>\n",
       "      <td>0.000000</td>\n",
       "      <td>0.000000</td>\n",
       "    </tr>\n",
       "    <tr>\n",
       "      <th>2014-10</th>\n",
       "      <td>51.225806</td>\n",
       "      <td>0.774194</td>\n",
       "      <td>12.064516</td>\n",
       "      <td>16.774194</td>\n",
       "      <td>5.516129</td>\n",
       "      <td>4.709677</td>\n",
       "    </tr>\n",
       "    <tr>\n",
       "      <th>2014-11</th>\n",
       "      <td>43.379310</td>\n",
       "      <td>0.000000</td>\n",
       "      <td>11.103448</td>\n",
       "      <td>14.689655</td>\n",
       "      <td>0.000000</td>\n",
       "      <td>0.034483</td>\n",
       "    </tr>\n",
       "    <tr>\n",
       "      <th>2014-12</th>\n",
       "      <td>32.600000</td>\n",
       "      <td>0.000000</td>\n",
       "      <td>8.400000</td>\n",
       "      <td>35.333333</td>\n",
       "      <td>0.000000</td>\n",
       "      <td>0.000000</td>\n",
       "    </tr>\n",
       "  </tbody>\n",
       "</table>\n",
       "</div>"
      ],
      "text/plain": [
       "                            average                                 \\\n",
       "report              cases confirmed cases probable cases suspected   \n",
       "country     date                                                     \n",
       "Guinea      2014-08        2.000000       0.258065        1.903226   \n",
       "            2014-09        6.933333       0.633333        2.900000   \n",
       "            2014-10        6.000000       0.000000       28.000000   \n",
       "Liberia     2014-06        0.517241       0.275862        0.586207   \n",
       "            2014-07        0.769231       1.576923        1.269231   \n",
       "            2014-08        1.750000       6.357143        3.857143   \n",
       "            2014-09        4.933333      23.466667       22.666667   \n",
       "            2014-10        1.360000      14.322581       21.322581   \n",
       "            2014-11        1.300000       3.620690        8.724138   \n",
       "            2014-12        9.888889       2.222222        4.333333   \n",
       "Sierraleone 2014-08       11.612903       0.709677        3.193548   \n",
       "            2014-09       33.266667       0.000000        6.275862   \n",
       "            2014-10       51.225806       0.774194       12.064516   \n",
       "            2014-11       43.379310       0.000000       11.103448   \n",
       "            2014-12       32.600000       0.000000        8.400000   \n",
       "\n",
       "                                                                       \n",
       "report              deaths confirmed deaths probable deaths suspected  \n",
       "country     date                                                       \n",
       "Guinea      2014-08         3.516129        0.548387         0.000000  \n",
       "            2014-09         6.733333        0.833333         6.423077  \n",
       "            2014-10        23.000000        2.000000         0.000000  \n",
       "Liberia     2014-06         0.620690        0.137931         0.379310  \n",
       "            2014-07         1.538462        1.923077         0.230769  \n",
       "            2014-08         9.107143       10.357143         6.964286  \n",
       "            2014-09        20.233333       10.833333         8.033333  \n",
       "            2014-10        20.090909        6.857143         8.714286  \n",
       "            2014-11              NaN             NaN              NaN  \n",
       "            2014-12              NaN             NaN              NaN  \n",
       "Sierraleone 2014-08         3.967742        0.096774         0.193548  \n",
       "            2014-09         5.433333        0.000000         0.000000  \n",
       "            2014-10        16.774194        5.516129         4.709677  \n",
       "            2014-11        14.689655        0.000000         0.034483  \n",
       "            2014-12        35.333333        0.000000         0.000000  "
      ]
     },
     "execution_count": 22,
     "metadata": {},
     "output_type": "execute_result"
    }
   ],
   "source": [
    "all_averages_dataframe"
   ]
  },
  {
   "cell_type": "markdown",
   "metadata": {},
   "source": [
    "***"
   ]
  },
  {
   "cell_type": "markdown",
   "metadata": {},
   "source": [
    "## Task 2. RNA Sequences\n",
    "\n",
    "In the `DATA_FOLDER/microbiome` subdirectory, there are 9 spreadsheets of microbiome data that was acquired from high-throughput RNA sequencing procedures, along with a 10<sup>th</sup> file that describes the content of each. \n",
    "\n",
    "Use pandas to import the first 9 spreadsheets into a single `DataFrame`.\n",
    "Then, add the metadata information from the 10<sup>th</sup> spreadsheet as columns in the combined `DataFrame`.\n",
    "Make sure that the final `DataFrame` has a unique index and all the `NaN` values have been replaced by the tag `unknown`."
   ]
  },
  {
   "cell_type": "code",
   "execution_count": 23,
   "metadata": {},
   "outputs": [
    {
     "name": "stdout",
     "output_type": "stream",
     "text": [
      "Is the \"NAME\" index unique ? : True\n"
     ]
    },
    {
     "data": {
      "text/html": [
       "<div>\n",
       "<style>\n",
       "    .dataframe thead tr:only-child th {\n",
       "        text-align: right;\n",
       "    }\n",
       "\n",
       "    .dataframe thead th {\n",
       "        text-align: left;\n",
       "    }\n",
       "\n",
       "    .dataframe tbody tr th {\n",
       "        vertical-align: top;\n",
       "    }\n",
       "</style>\n",
       "<table border=\"1\" class=\"dataframe\">\n",
       "  <thead>\n",
       "    <tr>\n",
       "      <th></th>\n",
       "      <th>unknown</th>\n",
       "      <th colspan=\"4\" halign=\"left\">tissue</th>\n",
       "      <th colspan=\"4\" halign=\"left\">stool</th>\n",
       "    </tr>\n",
       "    <tr>\n",
       "      <th></th>\n",
       "      <th>EXTRACTION CONTROL</th>\n",
       "      <th>NEC 1</th>\n",
       "      <th>Control 1</th>\n",
       "      <th>NEC 2</th>\n",
       "      <th>Control 2</th>\n",
       "      <th>NEC 1</th>\n",
       "      <th>Control 1</th>\n",
       "      <th>NEC 2</th>\n",
       "      <th>Control 2</th>\n",
       "    </tr>\n",
       "    <tr>\n",
       "      <th>NAME</th>\n",
       "      <th></th>\n",
       "      <th></th>\n",
       "      <th></th>\n",
       "      <th></th>\n",
       "      <th></th>\n",
       "      <th></th>\n",
       "      <th></th>\n",
       "      <th></th>\n",
       "      <th></th>\n",
       "    </tr>\n",
       "  </thead>\n",
       "  <tbody>\n",
       "    <tr>\n",
       "      <th>Archaea \"Crenarchaeota\" Thermoprotei Desulfurococcales Desulfurococcaceae Ignisphaera</th>\n",
       "      <td>7</td>\n",
       "      <td>23</td>\n",
       "      <td>14</td>\n",
       "      <td>2</td>\n",
       "      <td>28</td>\n",
       "      <td>7</td>\n",
       "      <td>8</td>\n",
       "      <td>unknown</td>\n",
       "      <td>16</td>\n",
       "    </tr>\n",
       "    <tr>\n",
       "      <th>Archaea \"Crenarchaeota\" Thermoprotei Desulfurococcales Pyrodictiaceae Pyrolobus</th>\n",
       "      <td>2</td>\n",
       "      <td>2</td>\n",
       "      <td>unknown</td>\n",
       "      <td>unknown</td>\n",
       "      <td>3</td>\n",
       "      <td>2</td>\n",
       "      <td>1</td>\n",
       "      <td>unknown</td>\n",
       "      <td>unknown</td>\n",
       "    </tr>\n",
       "    <tr>\n",
       "      <th>Archaea \"Crenarchaeota\" Thermoprotei Sulfolobales Sulfolobaceae Stygiolobus</th>\n",
       "      <td>3</td>\n",
       "      <td>10</td>\n",
       "      <td>4</td>\n",
       "      <td>unknown</td>\n",
       "      <td>14</td>\n",
       "      <td>5</td>\n",
       "      <td>5</td>\n",
       "      <td>1</td>\n",
       "      <td>6</td>\n",
       "    </tr>\n",
       "    <tr>\n",
       "      <th>Archaea \"Crenarchaeota\" Thermoprotei Thermoproteales Thermofilaceae Thermofilum</th>\n",
       "      <td>3</td>\n",
       "      <td>9</td>\n",
       "      <td>5</td>\n",
       "      <td>unknown</td>\n",
       "      <td>10</td>\n",
       "      <td>4</td>\n",
       "      <td>5</td>\n",
       "      <td>unknown</td>\n",
       "      <td>5</td>\n",
       "    </tr>\n",
       "    <tr>\n",
       "      <th>Archaea \"Euryarchaeota\" \"Methanomicrobia\" Methanocellales Methanocellaceae Methanocella</th>\n",
       "      <td>7</td>\n",
       "      <td>9</td>\n",
       "      <td>7</td>\n",
       "      <td>1</td>\n",
       "      <td>17</td>\n",
       "      <td>12</td>\n",
       "      <td>18</td>\n",
       "      <td>unknown</td>\n",
       "      <td>14</td>\n",
       "    </tr>\n",
       "  </tbody>\n",
       "</table>\n",
       "</div>"
      ],
      "text/plain": [
       "                                                              unknown tissue  \\\n",
       "                                                   EXTRACTION CONTROL  NEC 1   \n",
       "NAME                                                                           \n",
       "Archaea \"Crenarchaeota\" Thermoprotei Desulfuroc...                  7     23   \n",
       "Archaea \"Crenarchaeota\" Thermoprotei Desulfuroc...                  2      2   \n",
       "Archaea \"Crenarchaeota\" Thermoprotei Sulfolobal...                  3     10   \n",
       "Archaea \"Crenarchaeota\" Thermoprotei Thermoprot...                  3      9   \n",
       "Archaea \"Euryarchaeota\" \"Methanomicrobia\" Metha...                  7      9   \n",
       "\n",
       "                                                                       \\\n",
       "                                                   Control 1    NEC 2   \n",
       "NAME                                                                    \n",
       "Archaea \"Crenarchaeota\" Thermoprotei Desulfuroc...        14        2   \n",
       "Archaea \"Crenarchaeota\" Thermoprotei Desulfuroc...   unknown  unknown   \n",
       "Archaea \"Crenarchaeota\" Thermoprotei Sulfolobal...         4  unknown   \n",
       "Archaea \"Crenarchaeota\" Thermoprotei Thermoprot...         5  unknown   \n",
       "Archaea \"Euryarchaeota\" \"Methanomicrobia\" Metha...         7        1   \n",
       "\n",
       "                                                             stool            \\\n",
       "                                                   Control 2 NEC 1 Control 1   \n",
       "NAME                                                                           \n",
       "Archaea \"Crenarchaeota\" Thermoprotei Desulfuroc...        28     7         8   \n",
       "Archaea \"Crenarchaeota\" Thermoprotei Desulfuroc...         3     2         1   \n",
       "Archaea \"Crenarchaeota\" Thermoprotei Sulfolobal...        14     5         5   \n",
       "Archaea \"Crenarchaeota\" Thermoprotei Thermoprot...        10     4         5   \n",
       "Archaea \"Euryarchaeota\" \"Methanomicrobia\" Metha...        17    12        18   \n",
       "\n",
       "                                                                       \n",
       "                                                      NEC 2 Control 2  \n",
       "NAME                                                                   \n",
       "Archaea \"Crenarchaeota\" Thermoprotei Desulfuroc...  unknown        16  \n",
       "Archaea \"Crenarchaeota\" Thermoprotei Desulfuroc...  unknown   unknown  \n",
       "Archaea \"Crenarchaeota\" Thermoprotei Sulfolobal...        1         6  \n",
       "Archaea \"Crenarchaeota\" Thermoprotei Thermoprot...  unknown         5  \n",
       "Archaea \"Euryarchaeota\" \"Methanomicrobia\" Metha...  unknown        14  "
      ]
     },
     "execution_count": 23,
     "metadata": {},
     "output_type": "execute_result"
    }
   ],
   "source": [
    "#Extract metadata\n",
    "metadata = pd.read_excel(DATA_FOLDER + '/microbiome/metadata.xls')\n",
    "\n",
    "MIDs={};            \n",
    "MID_combined={};\n",
    "\n",
    "# load MID1-MID9 files\n",
    "for i in range(1,10):\n",
    "    # parse the DataFrame with metavalues\n",
    "    group_str = str(metadata[metadata.BARCODE == ('MID'+str(i))]['GROUP'].values[0]); #e.g. NEC1\n",
    "    sample_str = str(metadata[metadata.BARCODE == ('MID'+str(i))]['SAMPLE'].values[0]); #stool or tissue\n",
    "    if(sample_str == 'nan'):\n",
    "        sample_str='unknown';\n",
    "    # prase excel with column values 'NAME' and sample_str\n",
    "    MIDs[i-1] = pd.read_excel(DATA_FOLDER+'/microbiome/MID'+str(i)+'.xls', sheetname='Sheet 1', header=None, names=['NAME',sample_str])\n",
    "    #add 1 more level with 'group_str'\n",
    "    MIDs[i-1].columns = pd.MultiIndex.from_arrays([MIDs[i-1].columns, ['',group_str ]])\n",
    "\n",
    "    \n",
    "# Merge the DataFrames together\n",
    "MID_combined = MIDs[0];\n",
    "for i in range(1,9):\n",
    "    MID_combined = pd.DataFrame.merge(MID_combined, MIDs[i], how='outer')\n",
    "\n",
    "# Setting all NaN to 'unknown' label\n",
    "MID_combined = MID_combined.fillna('unknown')\n",
    "MID_combined.set_index('NAME', inplace=True)\n",
    "\n",
    "# Checking if the Index is unique\n",
    "print('Is the \"NAME\" index unique ? : ' + str(MID_combined.index.is_unique))\n",
    "\n",
    "# Printing some values\n",
    "MID_combined.head()"
   ]
  },
  {
   "cell_type": "markdown",
   "metadata": {},
   "source": [
    "# Task 3. Class War in Titanic\n",
    "\n",
    "Use pandas to import the data file `Data/titanic.xls`. It contains data on all the passengers that travelled on the Titanic."
   ]
  },
  {
   "cell_type": "markdown",
   "metadata": {},
   "source": [
    "### 3.0 <span style=\"color:Green\"> Importing the data </span>"
   ]
  },
  {
   "cell_type": "code",
   "execution_count": 24,
   "metadata": {},
   "outputs": [
    {
     "data": {
      "text/html": [
       "<hr><h2>Data frame:titanic3</h2>1309 observations and 14 variables, maximum # NAs:1188<hr>\n",
       "<TABLE BORDER>\n",
       "<tr><td>Name</td><td>Labels</td><td>Units</td><td>Levels</td><td>Storage</td><td>NAs</td></tr>\n",
       "<tr><td>pclass</td><td></td><td></td><td><a href=\"#pclass\"><div align=right>  3</div></a></td><td>integer</td><td><div align=right>   0</div></td></tr>\n",
       "<tr><td>survived</td><td>Survived</td><td></td><td><div align=right></div></td><td>double</td><td><div align=right>   0</div></td></tr>\n",
       "<tr><td>name</td><td>Name</td><td></td><td><div align=right></div></td><td>character</td><td><div align=right>   0</div></td></tr>\n",
       "<tr><td>sex</td><td></td><td></td><td><a href=\"#sex\"><div align=right>  2</div></a></td><td>integer</td><td><div align=right>   0</div></td></tr>\n",
       "<tr><td>age</td><td>Age</td><td>Year</td><td><div align=right></div></td><td>double</td><td><div align=right> 263</div></td></tr>\n",
       "<tr><td>sibsp</td><td>Number of Siblings/Spouses Aboard</td><td></td><td><div align=right></div></td><td>double</td><td><div align=right>   0</div></td></tr>\n",
       "<tr><td>parch</td><td>Number of Parents/Children Aboard</td><td></td><td><div align=right></div></td><td>double</td><td><div align=right>   0</div></td></tr>\n",
       "<tr><td>ticket</td><td>Ticket Number</td><td></td><td><div align=right></div></td><td>character</td><td><div align=right>   0</div></td></tr>\n",
       "<tr><td>fare</td><td>Passenger Fare</td><td>British Pound (\\243)</td><td><div align=right></div></td><td>double</td><td><div align=right>   1</div></td></tr>\n",
       "<tr><td>cabin</td><td></td><td></td><td><a href=\"#cabin\"><div align=right>187</div></a></td><td>integer</td><td><div align=right>   0</div></td></tr>\n",
       "<tr><td>embarked</td><td></td><td></td><td><a href=\"#embarked\"><div align=right>  3</div></a></td><td>integer</td><td><div align=right>   2</div></td></tr>\n",
       "<tr><td>boat</td><td></td><td></td><td><a href=\"#boat\"><div align=right> 28</div></a></td><td>integer</td><td><div align=right>   0</div></td></tr>\n",
       "<tr><td>body</td><td>Body Identification Number</td><td></td><td><div align=right></div></td><td>double</td><td><div align=right>1188</div></td></tr>\n",
       "<tr><td>home.dest</td><td>Home/Destination</td><td></td><td><div align=right></div></td><td>character</td><td><div align=right>   0</div></td></tr>\n",
       "</TABLE>\n",
       "<hr>\n",
       "<TABLE BORDER>\n",
       "<tr><td>Variable</td><td>Levels</td></tr>\n",
       "<tr><td><a name=\"pclass\">pclass</a></td><td>1st</td></tr>\n",
       "<tr><td></td><td>2nd</td></tr>\n",
       "<tr><td></td><td>3rd</td></tr>\n",
       "<tr><td><a name=\"sex\">sex</a></td><td>female</td></tr>\n",
       "<tr><td></td><td>male</td></tr>\n",
       "<tr><td><a name=\"cabin\">cabin</a></td><td></td></tr>\n",
       "<tr><td></td><td>A10</td></tr>\n",
       "<tr><td></td><td>A11</td></tr>\n",
       "<tr><td></td><td>A14</td></tr>\n",
       "<tr><td></td><td>A16</td></tr>\n",
       "<tr><td></td><td>A18</td></tr>\n",
       "<tr><td></td><td>A19</td></tr>\n",
       "<tr><td></td><td>A20</td></tr>\n",
       "<tr><td></td><td>A21</td></tr>\n",
       "<tr><td></td><td>A23</td></tr>\n",
       "<tr><td></td><td>A24</td></tr>\n",
       "<tr><td></td><td>A26</td></tr>\n",
       "<tr><td></td><td>A29</td></tr>\n",
       "<tr><td></td><td>A31</td></tr>\n",
       "<tr><td></td><td>A32</td></tr>\n",
       "<tr><td></td><td>A34</td></tr>\n",
       "<tr><td></td><td>A36</td></tr>\n",
       "<tr><td></td><td>A5</td></tr>\n",
       "<tr><td></td><td>A6</td></tr>\n",
       "<tr><td></td><td>A7</td></tr>\n",
       "<tr><td></td><td>A9</td></tr>\n",
       "<tr><td></td><td>B10</td></tr>\n",
       "<tr><td></td><td>B101</td></tr>\n",
       "<tr><td></td><td>B102</td></tr>\n",
       "<tr><td></td><td>B11</td></tr>\n",
       "<tr><td></td><td>B18</td></tr>\n",
       "<tr><td></td><td>B19</td></tr>\n",
       "<tr><td></td><td>B20</td></tr>\n",
       "<tr><td></td><td>B22</td></tr>\n",
       "<tr><td></td><td>B24</td></tr>\n",
       "<tr><td></td><td>B26</td></tr>\n",
       "<tr><td></td><td>B28</td></tr>\n",
       "<tr><td></td><td>B3</td></tr>\n",
       "<tr><td></td><td>B30</td></tr>\n",
       "<tr><td></td><td>B35</td></tr>\n",
       "<tr><td></td><td>B36</td></tr>\n",
       "<tr><td></td><td>B37</td></tr>\n",
       "<tr><td></td><td>B38</td></tr>\n",
       "<tr><td></td><td>B39</td></tr>\n",
       "<tr><td></td><td>B4</td></tr>\n",
       "<tr><td></td><td>B41</td></tr>\n",
       "<tr><td></td><td>B42</td></tr>\n",
       "<tr><td></td><td>B45</td></tr>\n",
       "<tr><td></td><td>B49</td></tr>\n",
       "<tr><td></td><td>B5</td></tr>\n",
       "<tr><td></td><td>B50</td></tr>\n",
       "<tr><td></td><td>B51 B53 B55</td></tr>\n",
       "<tr><td></td><td>B52 B54 B56</td></tr>\n",
       "<tr><td></td><td>B57 B59 B63 B66</td></tr>\n",
       "<tr><td></td><td>B58 B60</td></tr>\n",
       "<tr><td></td><td>B61</td></tr>\n",
       "<tr><td></td><td>B69</td></tr>\n",
       "<tr><td></td><td>B71</td></tr>\n",
       "<tr><td></td><td>B73</td></tr>\n",
       "<tr><td></td><td>B77</td></tr>\n",
       "<tr><td></td><td>B78</td></tr>\n",
       "<tr><td></td><td>B79</td></tr>\n",
       "<tr><td></td><td>B80</td></tr>\n",
       "<tr><td></td><td>B82 B84</td></tr>\n",
       "<tr><td></td><td>B86</td></tr>\n",
       "<tr><td></td><td>B94</td></tr>\n",
       "<tr><td></td><td>B96 B98</td></tr>\n",
       "<tr><td></td><td>C101</td></tr>\n",
       "<tr><td></td><td>C103</td></tr>\n",
       "<tr><td></td><td>C104</td></tr>\n",
       "<tr><td></td><td>C105</td></tr>\n",
       "<tr><td></td><td>C106</td></tr>\n",
       "<tr><td></td><td>C110</td></tr>\n",
       "<tr><td></td><td>C111</td></tr>\n",
       "<tr><td></td><td>C116</td></tr>\n",
       "<tr><td></td><td>C118</td></tr>\n",
       "<tr><td></td><td>C123</td></tr>\n",
       "<tr><td></td><td>C124</td></tr>\n",
       "<tr><td></td><td>C125</td></tr>\n",
       "<tr><td></td><td>C126</td></tr>\n",
       "<tr><td></td><td>C128</td></tr>\n",
       "<tr><td></td><td>C130</td></tr>\n",
       "<tr><td></td><td>C132</td></tr>\n",
       "<tr><td></td><td>C148</td></tr>\n",
       "<tr><td></td><td>C2</td></tr>\n",
       "<tr><td></td><td>C22 C26</td></tr>\n",
       "<tr><td></td><td>C23 C25 C27</td></tr>\n",
       "<tr><td></td><td>C28</td></tr>\n",
       "<tr><td></td><td>C30</td></tr>\n",
       "<tr><td></td><td>C31</td></tr>\n",
       "<tr><td></td><td>C32</td></tr>\n",
       "<tr><td></td><td>C39</td></tr>\n",
       "<tr><td></td><td>C45</td></tr>\n",
       "<tr><td></td><td>C46</td></tr>\n",
       "<tr><td></td><td>C47</td></tr>\n",
       "<tr><td></td><td>C49</td></tr>\n",
       "<tr><td></td><td>C50</td></tr>\n",
       "<tr><td></td><td>C51</td></tr>\n",
       "<tr><td></td><td>C52</td></tr>\n",
       "<tr><td></td><td>C53</td></tr>\n",
       "<tr><td></td><td>C54</td></tr>\n",
       "<tr><td></td><td>C55 C57</td></tr>\n",
       "<tr><td></td><td>C6</td></tr>\n",
       "<tr><td></td><td>C62 C64</td></tr>\n",
       "<tr><td></td><td>C65</td></tr>\n",
       "<tr><td></td><td>C68</td></tr>\n",
       "<tr><td></td><td>C7</td></tr>\n",
       "<tr><td></td><td>C70</td></tr>\n",
       "<tr><td></td><td>C78</td></tr>\n",
       "<tr><td></td><td>C80</td></tr>\n",
       "<tr><td></td><td>C82</td></tr>\n",
       "<tr><td></td><td>C83</td></tr>\n",
       "<tr><td></td><td>C85</td></tr>\n",
       "<tr><td></td><td>C86</td></tr>\n",
       "<tr><td></td><td>C87</td></tr>\n",
       "<tr><td></td><td>C89</td></tr>\n",
       "<tr><td></td><td>C90</td></tr>\n",
       "<tr><td></td><td>C91</td></tr>\n",
       "<tr><td></td><td>C92</td></tr>\n",
       "<tr><td></td><td>C93</td></tr>\n",
       "<tr><td></td><td>C95</td></tr>\n",
       "<tr><td></td><td>C97</td></tr>\n",
       "<tr><td></td><td>C99</td></tr>\n",
       "<tr><td></td><td>D</td></tr>\n",
       "<tr><td></td><td>D10 D12</td></tr>\n",
       "<tr><td></td><td>D11</td></tr>\n",
       "<tr><td></td><td>D15</td></tr>\n",
       "<tr><td></td><td>D17</td></tr>\n",
       "<tr><td></td><td>D19</td></tr>\n",
       "<tr><td></td><td>D20</td></tr>\n",
       "<tr><td></td><td>D21</td></tr>\n",
       "<tr><td></td><td>D22</td></tr>\n",
       "<tr><td></td><td>D26</td></tr>\n",
       "<tr><td></td><td>D28</td></tr>\n",
       "<tr><td></td><td>D30</td></tr>\n",
       "<tr><td></td><td>D33</td></tr>\n",
       "<tr><td></td><td>D34</td></tr>\n",
       "<tr><td></td><td>D35</td></tr>\n",
       "<tr><td></td><td>D36</td></tr>\n",
       "<tr><td></td><td>D37</td></tr>\n",
       "<tr><td></td><td>D38</td></tr>\n",
       "<tr><td></td><td>D40</td></tr>\n",
       "<tr><td></td><td>D43</td></tr>\n",
       "<tr><td></td><td>D45</td></tr>\n",
       "<tr><td></td><td>D46</td></tr>\n",
       "<tr><td></td><td>D47</td></tr>\n",
       "<tr><td></td><td>D48</td></tr>\n",
       "<tr><td></td><td>D49</td></tr>\n",
       "<tr><td></td><td>D50</td></tr>\n",
       "<tr><td></td><td>D56</td></tr>\n",
       "<tr><td></td><td>D6</td></tr>\n",
       "<tr><td></td><td>D7</td></tr>\n",
       "<tr><td></td><td>D9</td></tr>\n",
       "<tr><td></td><td>E10</td></tr>\n",
       "<tr><td></td><td>E101</td></tr>\n",
       "<tr><td></td><td>E12</td></tr>\n",
       "<tr><td></td><td>E121</td></tr>\n",
       "<tr><td></td><td>E17</td></tr>\n",
       "<tr><td></td><td>E24</td></tr>\n",
       "<tr><td></td><td>E25</td></tr>\n",
       "<tr><td></td><td>E31</td></tr>\n",
       "<tr><td></td><td>E33</td></tr>\n",
       "<tr><td></td><td>E34</td></tr>\n",
       "<tr><td></td><td>E36</td></tr>\n",
       "<tr><td></td><td>E38</td></tr>\n",
       "<tr><td></td><td>E39 E41</td></tr>\n",
       "<tr><td></td><td>E40</td></tr>\n",
       "<tr><td></td><td>E44</td></tr>\n",
       "<tr><td></td><td>E45</td></tr>\n",
       "<tr><td></td><td>E46</td></tr>\n",
       "<tr><td></td><td>E49</td></tr>\n",
       "<tr><td></td><td>E50</td></tr>\n",
       "<tr><td></td><td>E52</td></tr>\n",
       "<tr><td></td><td>E58</td></tr>\n",
       "<tr><td></td><td>E60</td></tr>\n",
       "<tr><td></td><td>E63</td></tr>\n",
       "<tr><td></td><td>E67</td></tr>\n",
       "<tr><td></td><td>E68</td></tr>\n",
       "<tr><td></td><td>E77</td></tr>\n",
       "<tr><td></td><td>E8</td></tr>\n",
       "<tr><td></td><td>F</td></tr>\n",
       "<tr><td></td><td>F E46</td></tr>\n",
       "<tr><td></td><td>F E57</td></tr>\n",
       "<tr><td></td><td>F E69</td></tr>\n",
       "<tr><td></td><td>F G63</td></tr>\n",
       "<tr><td></td><td>F G73</td></tr>\n",
       "<tr><td></td><td>F2</td></tr>\n",
       "<tr><td></td><td>F33</td></tr>\n",
       "<tr><td></td><td>F38</td></tr>\n",
       "<tr><td></td><td>F4</td></tr>\n",
       "<tr><td></td><td>G6</td></tr>\n",
       "<tr><td></td><td>T</td></tr>\n",
       "<tr><td><a name=\"embarked\">embarked</a></td><td>Cherbourg</td></tr>\n",
       "<tr><td></td><td>Queenstown</td></tr>\n",
       "<tr><td></td><td>Southampton</td></tr>\n",
       "<tr><td><a name=\"boat\">boat</a></td><td></td></tr>\n",
       "<tr><td></td><td>1</td></tr>\n",
       "<tr><td></td><td>10</td></tr>\n",
       "<tr><td></td><td>11</td></tr>\n",
       "<tr><td></td><td>12</td></tr>\n",
       "<tr><td></td><td>13</td></tr>\n",
       "<tr><td></td><td>13 15</td></tr>\n",
       "<tr><td></td><td>13 15 B</td></tr>\n",
       "<tr><td></td><td>14</td></tr>\n",
       "<tr><td></td><td>15</td></tr>\n",
       "<tr><td></td><td>15 16</td></tr>\n",
       "<tr><td></td><td>16</td></tr>\n",
       "<tr><td></td><td>2</td></tr>\n",
       "<tr><td></td><td>3</td></tr>\n",
       "<tr><td></td><td>4</td></tr>\n",
       "<tr><td></td><td>5</td></tr>\n",
       "<tr><td></td><td>5 7</td></tr>\n",
       "<tr><td></td><td>5 9</td></tr>\n",
       "<tr><td></td><td>6</td></tr>\n",
       "<tr><td></td><td>7</td></tr>\n",
       "<tr><td></td><td>8</td></tr>\n",
       "<tr><td></td><td>8 10</td></tr>\n",
       "<tr><td></td><td>9</td></tr>\n",
       "<tr><td></td><td>A</td></tr>\n",
       "<tr><td></td><td>B</td></tr>\n",
       "<tr><td></td><td>C</td></tr>\n",
       "<tr><td></td><td>C D</td></tr>\n",
       "<tr><td></td><td>D</td></tr>\n",
       "</TABLE>\n",
       "<hr>\n"
      ],
      "text/plain": [
       "<IPython.core.display.HTML object>"
      ]
     },
     "execution_count": 24,
     "metadata": {},
     "output_type": "execute_result"
    }
   ],
   "source": [
    "df = pd.read_excel(DATA_FOLDER + '/titanic.xls', sheetname='titanic', header=0)\n",
    "HTML(filename=DATA_FOLDER+'/titanic.html')"
   ]
  },
  {
   "cell_type": "markdown",
   "metadata": {},
   "source": [
    "### Visualizing the Raw DataFrame"
   ]
  },
  {
   "cell_type": "code",
   "execution_count": 25,
   "metadata": {},
   "outputs": [
    {
     "data": {
      "text/html": [
       "<div>\n",
       "<style>\n",
       "    .dataframe thead tr:only-child th {\n",
       "        text-align: right;\n",
       "    }\n",
       "\n",
       "    .dataframe thead th {\n",
       "        text-align: left;\n",
       "    }\n",
       "\n",
       "    .dataframe tbody tr th {\n",
       "        vertical-align: top;\n",
       "    }\n",
       "</style>\n",
       "<table border=\"1\" class=\"dataframe\">\n",
       "  <thead>\n",
       "    <tr style=\"text-align: right;\">\n",
       "      <th></th>\n",
       "      <th>pclass</th>\n",
       "      <th>survived</th>\n",
       "      <th>name</th>\n",
       "      <th>sex</th>\n",
       "      <th>age</th>\n",
       "      <th>sibsp</th>\n",
       "      <th>parch</th>\n",
       "      <th>ticket</th>\n",
       "      <th>fare</th>\n",
       "      <th>cabin</th>\n",
       "      <th>embarked</th>\n",
       "      <th>boat</th>\n",
       "      <th>body</th>\n",
       "      <th>home.dest</th>\n",
       "    </tr>\n",
       "  </thead>\n",
       "  <tbody>\n",
       "    <tr>\n",
       "      <th>0</th>\n",
       "      <td>1</td>\n",
       "      <td>1</td>\n",
       "      <td>Allen, Miss. Elisabeth Walton</td>\n",
       "      <td>female</td>\n",
       "      <td>29.0000</td>\n",
       "      <td>0</td>\n",
       "      <td>0</td>\n",
       "      <td>24160</td>\n",
       "      <td>211.3375</td>\n",
       "      <td>B5</td>\n",
       "      <td>S</td>\n",
       "      <td>2</td>\n",
       "      <td>NaN</td>\n",
       "      <td>St Louis, MO</td>\n",
       "    </tr>\n",
       "    <tr>\n",
       "      <th>1</th>\n",
       "      <td>1</td>\n",
       "      <td>1</td>\n",
       "      <td>Allison, Master. Hudson Trevor</td>\n",
       "      <td>male</td>\n",
       "      <td>0.9167</td>\n",
       "      <td>1</td>\n",
       "      <td>2</td>\n",
       "      <td>113781</td>\n",
       "      <td>151.5500</td>\n",
       "      <td>C22 C26</td>\n",
       "      <td>S</td>\n",
       "      <td>11</td>\n",
       "      <td>NaN</td>\n",
       "      <td>Montreal, PQ / Chesterville, ON</td>\n",
       "    </tr>\n",
       "    <tr>\n",
       "      <th>2</th>\n",
       "      <td>1</td>\n",
       "      <td>0</td>\n",
       "      <td>Allison, Miss. Helen Loraine</td>\n",
       "      <td>female</td>\n",
       "      <td>2.0000</td>\n",
       "      <td>1</td>\n",
       "      <td>2</td>\n",
       "      <td>113781</td>\n",
       "      <td>151.5500</td>\n",
       "      <td>C22 C26</td>\n",
       "      <td>S</td>\n",
       "      <td>NaN</td>\n",
       "      <td>NaN</td>\n",
       "      <td>Montreal, PQ / Chesterville, ON</td>\n",
       "    </tr>\n",
       "    <tr>\n",
       "      <th>3</th>\n",
       "      <td>1</td>\n",
       "      <td>0</td>\n",
       "      <td>Allison, Mr. Hudson Joshua Creighton</td>\n",
       "      <td>male</td>\n",
       "      <td>30.0000</td>\n",
       "      <td>1</td>\n",
       "      <td>2</td>\n",
       "      <td>113781</td>\n",
       "      <td>151.5500</td>\n",
       "      <td>C22 C26</td>\n",
       "      <td>S</td>\n",
       "      <td>NaN</td>\n",
       "      <td>135.0</td>\n",
       "      <td>Montreal, PQ / Chesterville, ON</td>\n",
       "    </tr>\n",
       "    <tr>\n",
       "      <th>4</th>\n",
       "      <td>1</td>\n",
       "      <td>0</td>\n",
       "      <td>Allison, Mrs. Hudson J C (Bessie Waldo Daniels)</td>\n",
       "      <td>female</td>\n",
       "      <td>25.0000</td>\n",
       "      <td>1</td>\n",
       "      <td>2</td>\n",
       "      <td>113781</td>\n",
       "      <td>151.5500</td>\n",
       "      <td>C22 C26</td>\n",
       "      <td>S</td>\n",
       "      <td>NaN</td>\n",
       "      <td>NaN</td>\n",
       "      <td>Montreal, PQ / Chesterville, ON</td>\n",
       "    </tr>\n",
       "  </tbody>\n",
       "</table>\n",
       "</div>"
      ],
      "text/plain": [
       "   pclass  survived                                             name     sex  \\\n",
       "0       1         1                    Allen, Miss. Elisabeth Walton  female   \n",
       "1       1         1                   Allison, Master. Hudson Trevor    male   \n",
       "2       1         0                     Allison, Miss. Helen Loraine  female   \n",
       "3       1         0             Allison, Mr. Hudson Joshua Creighton    male   \n",
       "4       1         0  Allison, Mrs. Hudson J C (Bessie Waldo Daniels)  female   \n",
       "\n",
       "       age  sibsp  parch  ticket      fare    cabin embarked boat   body  \\\n",
       "0  29.0000      0      0   24160  211.3375       B5        S    2    NaN   \n",
       "1   0.9167      1      2  113781  151.5500  C22 C26        S   11    NaN   \n",
       "2   2.0000      1      2  113781  151.5500  C22 C26        S  NaN    NaN   \n",
       "3  30.0000      1      2  113781  151.5500  C22 C26        S  NaN  135.0   \n",
       "4  25.0000      1      2  113781  151.5500  C22 C26        S  NaN    NaN   \n",
       "\n",
       "                         home.dest  \n",
       "0                     St Louis, MO  \n",
       "1  Montreal, PQ / Chesterville, ON  \n",
       "2  Montreal, PQ / Chesterville, ON  \n",
       "3  Montreal, PQ / Chesterville, ON  \n",
       "4  Montreal, PQ / Chesterville, ON  "
      ]
     },
     "execution_count": 25,
     "metadata": {},
     "output_type": "execute_result"
    }
   ],
   "source": [
    "df.head()"
   ]
  },
  {
   "cell_type": "markdown",
   "metadata": {},
   "source": [
    "For each of the following questions state clearly your assumptions and discuss your findings:\n",
    "1. Describe the *type* and the *value range* of each attribute. Indicate and transform the attributes that can be `Categorical`. \n",
    "2. Plot histograms for the *travel class*, *embarkation port*, *sex* and *age* attributes. For the latter one, use *discrete decade intervals*. \n",
    "3. Calculate the proportion of passengers by *cabin floor*. Present your results in a *pie chart*.\n",
    "4. For each *travel class*, calculate the proportion of the passengers that survived. Present your results in *pie charts*.\n",
    "5. Calculate the proportion of the passengers that survived by *travel class* and *sex*. Present your results in *a single histogram*.\n",
    "6. Create 2 equally populated *age categories* and calculate survival proportions by *age category*, *travel class* and *sex*. Present your results in a `DataFrame` with unique index."
   ]
  },
  {
   "cell_type": "markdown",
   "metadata": {},
   "source": [
    "--------------------------------"
   ]
  },
  {
   "cell_type": "markdown",
   "metadata": {},
   "source": [
    "## 3.1<span style=\"color:Green\"> Describe the type and the value range of each attribute. Indicate and transform the attributes that can be Categorical.</span>"
   ]
  },
  {
   "cell_type": "markdown",
   "metadata": {},
   "source": [
    "### Describing the Data"
   ]
  },
  {
   "cell_type": "markdown",
   "metadata": {},
   "source": [
    "- *pclass*: The type is integer since, as indicated, there are three types of pclasses namely: 1, 2, and 3. Thus the range is from 1 to 3 with discrete integerers. It can be set to categorical.\n",
    "\n",
    "- *survived*: The type is also integer as the passenger can either survive ('True') which corresponds to 1 or die ('False') which corresponds to 0. Can be categorical.\n",
    "\n",
    "- *name*: String since these are the names of the passengers. Can't be categorical due to the fact that there are many possibilities to what the name can be.\n",
    "\n",
    "- *sex*: A string referring to the sex of the passenger and thus having only two possibilities; \"Male\" or \"Female\".\n",
    "\n",
    "- *age*: Double or float since one's age is continuous and not discrete. The range is from 0 to the maximum age of a passenger (will assume 100). As it's continuous, it's not categorical.\n",
    "\n",
    "- *slbsp*: Since it represents the number of siblings, it should be an integer as it only can indicate full numbers. It ranges from 0 to max number of siblings a person has onboard. In this case, it's 8. Can be categorical, but it becomes a bit repetitive and thus should be kept non categorical. \n",
    "\n",
    "- *parch*: Since it represents the number of parents and children, it should be an integer as it only can indicate full numbers. It can range from 0 to max number of children a parent can have onboard. In this case, it's 9. Also kept non-categorical.\n",
    "\n",
    "- *ticket*: The type is object since it represents a string as ticket stands for ticket number. Since not all the ticket numbers are actual integers and some contain characters, the type is string and not integer.Non-categorical.\n",
    "\n",
    "- *fare*: This is the fare of the ticket in the British Pound currency. It's a float number and ranges from 0 to a high number. Since it's continuous, it can't be categorical.\n",
    "\n",
    "- *cabin*: The type of this attribute is String since it contains the cabin number along with the floor. \n",
    "    - *cabin floor*: The letter indicating the floor number. It is categorical.\n",
    "    \n",
    "- *embarked*: This attribute refers to a String representing the embarcation location with 3 values.: C, Q, S. In the spreadsheet, you can't tell what these values stand for. However, taking a look at the HTML file, we can see that these stand for Cherbourg, Queenstown, and Southhampton, respectively. Thus, it can be categorical. \n",
    "\n",
    "- *boat*: This attribute is an integer. Noticing that whenever the survived value for a passenger is 0 which means he hasn't survived, the boat attribute takes a NAN value. This means that the attribute refers to the boat id the survived passenger took. Ranges from???????\n",
    "\n",
    "- *body*: A float numerical refering to the body id number of the dead passenger. Its range might be from 1 to the number of dead passengers/identified dead bodies. \n",
    "\n",
    "- *home.dest*: String indicating the home and final destination of the passenger. Not categorical"
   ]
  },
  {
   "cell_type": "markdown",
   "metadata": {},
   "source": [
    "### Cleaning Data and Transforming Categorical Data"
   ]
  },
  {
   "cell_type": "markdown",
   "metadata": {},
   "source": [
    "Firstly, before even trying to manipulate and plot the data, we should make sure that the data is clean: the claims that were made previously are true. Moreover, we should know what should be done with any missing data."
   ]
  },
  {
   "cell_type": "markdown",
   "metadata": {},
   "source": [
    "*pclass:* We have no missing data. We also approve that there are only three categories:"
   ]
  },
  {
   "cell_type": "code",
   "execution_count": 26,
   "metadata": {},
   "outputs": [
    {
     "name": "stdout",
     "output_type": "stream",
     "text": [
      "The unique categories should be: {1,2,3}\n",
      "The actual unique categories in the data given are: [1 2 3]\n",
      "Number of missing data for 'pclass' attribute: 0\n"
     ]
    }
   ],
   "source": [
    "print(\"The unique categories should be: {1,2,3}\")\n",
    "print('The actual unique categories in the data given are: {}'.format(df['pclass'].unique()))\n",
    "print(\"Number of missing data for 'pclass' attribute: \" + str(np.sum(pd.isnull(df['pclass']))))\n",
    "df[\"pclass\"] = df[\"pclass\"].astype('category')"
   ]
  },
  {
   "cell_type": "markdown",
   "metadata": {},
   "source": [
    "*survived:* Again, we have no missing data. We also approve that there are only two categories. This attribute can be transformed into categorical, but we won't do it since we need it as non-categorical when we want to calculate the proportion of the passengers that survived by travel class and sex. This is because the factor plot inputs must contain one non-categorical input."
   ]
  },
  {
   "cell_type": "code",
   "execution_count": 27,
   "metadata": {},
   "outputs": [
    {
     "name": "stdout",
     "output_type": "stream",
     "text": [
      "The unique categories should be: {0,1}\n",
      "The actual unique categories in the data given are: [1 0]\n",
      "Number of missing data for 'survived' attribute: 0\n"
     ]
    }
   ],
   "source": [
    "print(\"The unique categories should be: {0,1}\")\n",
    "print('The actual unique categories in the data given are: {}'.format(df['survived'].unique()))\n",
    "print(\"Number of missing data for 'survived' attribute: \" + str(np.sum(pd.isnull(df['survived']))))\n"
   ]
  },
  {
   "cell_type": "markdown",
   "metadata": {},
   "source": [
    "*sex:* No missing data. Also, all the values are either \"Male\" or \"Female\""
   ]
  },
  {
   "cell_type": "code",
   "execution_count": 28,
   "metadata": {},
   "outputs": [
    {
     "name": "stdout",
     "output_type": "stream",
     "text": [
      "The unique categories should be: {\"Male\",\"Female\"}\n",
      "The actual unique categories in the data given are: ['female' 'male']\n",
      "Number of missing data for 'sex' attribute: 0\n"
     ]
    }
   ],
   "source": [
    "print(\"The unique categories should be: {\\\"Male\\\",\\\"Female\\\"}\")\n",
    "print('The actual unique categories in the data given are: {}'.format(df['sex'].unique()))\n",
    "print(\"Number of missing data for 'sex' attribute: \" + str(np.sum(pd.isnull(df['sex']))))\n",
    "df[\"sex\"] = df[\"sex\"].astype('category')"
   ]
  },
  {
   "cell_type": "markdown",
   "metadata": {},
   "source": [
    "*age:* We have 263 NaN values (missing data) for passenger ages. We also calculate the range of the numerical attribute. There are 12 age values less than 1, therefore we know that it us not an error. Additionally, we apply a (to-month) transformation to them and we obtain values between 1 and 11 included. This assures that the values represent month ages. In order not to create an additional DATAFRAME, we will keep the NaN values untouched for the time being. Later on, when we want to plot, we can drop them."
   ]
  },
  {
   "cell_type": "code",
   "execution_count": 29,
   "metadata": {},
   "outputs": [
    {
     "name": "stdout",
     "output_type": "stream",
     "text": [
      "Number of missing data for 'age' attribute: 263\n",
      "Range of the 'age' attribute: [0.1667, 80.0] years.\n",
      "Number of ages less than 1: 12 occurences.\n",
      "The below values are in years:\n",
      " 1       0.9167\n",
      "359     0.8333\n",
      "427     0.6667\n",
      "548     0.8333\n",
      "590     0.9167\n",
      "611     0.8333\n",
      "657     0.7500\n",
      "658     0.7500\n",
      "747     0.3333\n",
      "763     0.1667\n",
      "1111    0.7500\n",
      "1240    0.4167\n",
      "Name: age, dtype: float64 \n",
      "While the ones below are in months: \n",
      "1       11.0\n",
      "359     10.0\n",
      "427      8.0\n",
      "548     10.0\n",
      "590     11.0\n",
      "611     10.0\n",
      "657      9.0\n",
      "658      9.0\n",
      "747      4.0\n",
      "763      2.0\n",
      "1111     9.0\n",
      "1240     5.0\n",
      "Name: age, dtype: float64\n"
     ]
    }
   ],
   "source": [
    "print(\"Number of missing data for 'age' attribute: \" + str(np.sum(pd.isnull(df['age']))))\n",
    "print(\"Range of the 'age' attribute: [\" + str(df['age'].min()) +', ' +  str(df['age'].max()) + \"] years.\" )\n",
    "# We would also like to check whether there are a significant number of ages less than 1 to see whether \n",
    "#it's an error or if it represents a baby of age less than 1.\n",
    "print(\"Number of ages less than 1: \" + str(len([x for x in df['age'] if x<1])) + \" occurences.\")\n",
    "print(\"The below values are in years:\\n \" + str(df[df['age']<1]['age']) + \" \\nWhile the ones below are in months: \\n\" + str(np.round(df[df['age']<1]['age']*12)))"
   ]
  },
  {
   "cell_type": "markdown",
   "metadata": {},
   "source": [
    "*sibsp* and *parch*: We calculate the range of these values and check how many missing entries there are.\n"
   ]
  },
  {
   "cell_type": "code",
   "execution_count": 30,
   "metadata": {},
   "outputs": [
    {
     "name": "stdout",
     "output_type": "stream",
     "text": [
      "Number of missing data for 'sibsp' attribute: 0\n",
      "Range of the 'sibsp' attribute: [0, 8] persons.\n",
      "Number of missing data for 'parch' attribute: 0\n",
      "Range of the 'sibsp' attribute: [0, 9] persons.\n"
     ]
    }
   ],
   "source": [
    "print(\"Number of missing data for 'sibsp' attribute: \" + str(np.sum(pd.isnull(df['sibsp']))))\n",
    "print(\"Range of the 'sibsp' attribute: [\" + str(df['sibsp'].min()) +', ' +  str(df['sibsp'].max()) + \"] persons.\" )\n",
    "print(\"Number of missing data for 'parch' attribute: \" + str(np.sum(pd.isnull(df['parch']))))\n",
    "print(\"Range of the 'sibsp' attribute: [\" + str(df['parch'].min()) +', ' +  str(df['parch'].max()) + \"] persons.\" )"
   ]
  },
  {
   "cell_type": "markdown",
   "metadata": {},
   "source": [
    "*cabins* and *floors:* The cabin number is made up of a letter followed by a number. Logically, the first letter represents the floor in the ship, and the number represents the room in that specific floor. In order to associate the data against the attribute *floor*, we have to create the new attribute *floors*, or at least try and see its possible values.  Also, we keep the NaN values untouched at the moment, and will treat them later before plotting. We have to note that there are 1014 missing data entries for cabin, so the data left is not very representative but might provide us with some insight. \n",
    "\n",
    "Additionally, we can observe from the HTML file that some cabin entries start with two letters such as *F E46*. Since these are categorized along with the other F values, we assume that this is a cabin located in floor F but also extending to floor E. This is probably because it's a duplex suite. We will disregard the fact that it extends to two floors and assume that the floor corresponding to such cabins is the first letter. "
   ]
  },
  {
   "cell_type": "code",
   "execution_count": 31,
   "metadata": {},
   "outputs": [
    {
     "name": "stdout",
     "output_type": "stream",
     "text": [
      "0    B\n",
      "1    C\n",
      "2    C\n",
      "3    C\n",
      "4    C\n",
      "Name: floors, dtype: category\n",
      "Categories (8, object): [A, B, C, D, E, F, G, T]\n",
      "The possible floors in the ship are: [B, C, E, D, A, T, F, G]\n",
      "Categories (8, object): [B, C, E, D, A, T, F, G]\n",
      "However, the number of missing data for 'cabin' attribute: 1014\n"
     ]
    }
   ],
   "source": [
    "df['floors'] = np.NaN # Created a new column in our dataframe called 'floors' and filled it with NaN.\n",
    "for s in df.loc[df['cabin'].notnull()]['floors'].index: # For each non-Nan value of cabin, we took the initial of the cabin number\n",
    "                                                        # and placed it in its corresponding row in the 'floors' column.\n",
    "    initial = str(df.loc[s,'cabin'])[0]\n",
    "    df.loc[s,'floors']=initial\n",
    "df[\"floors\"] = df[\"floors\"].astype('category')\n",
    "print(df['floors'].head())\n",
    "print(\"The possible floors in the ship are: \" + str(((df['floors'].dropna().unique()))) )   \n",
    "print(\"However, the number of missing data for 'cabin' attribute: \" + str(np.sum(pd.isnull(df['cabin']))))"
   ]
  },
  {
   "cell_type": "markdown",
   "metadata": {},
   "source": [
    "*embarked*: As we previously mentioned, we expect that the values for *embarked* be S, Q, or C. We checked that here. We also found that there are only 2 missing values. We will, as done before, keep them untouched."
   ]
  },
  {
   "cell_type": "code",
   "execution_count": 32,
   "metadata": {},
   "outputs": [
    {
     "name": "stdout",
     "output_type": "stream",
     "text": [
      "The unique categories should be: {S,Q,C}\n",
      "The actual unique categories in the data given are: ['S' 'C' 'Q']\n",
      "Number of missing data for 'embarked' attribute: 2\n"
     ]
    }
   ],
   "source": [
    "print(\"The unique categories should be: {S,Q,C}\")\n",
    "print('The actual unique categories in the data given are: {}'.format(df['embarked'].dropna().unique()))\n",
    "print(\"Number of missing data for 'embarked' attribute: \" + str(np.sum(pd.isnull(df['embarked']))))\n",
    "df[\"embarked\"] = df[\"embarked\"].astype('category')"
   ]
  },
  {
   "cell_type": "markdown",
   "metadata": {},
   "source": [
    "------------------------------------------"
   ]
  },
  {
   "cell_type": "markdown",
   "metadata": {},
   "source": [
    "## 3.2  <span style=\"color:Green\">Plot histograms for the travel class, embarkation port, sex and age attributes. For the latter one, use discrete decade intervals.</span>"
   ]
  },
  {
   "cell_type": "code",
   "execution_count": 33,
   "metadata": {},
   "outputs": [
    {
     "data": {
      "image/png": "[encoded data removed]",
      "text/plain": [
       "<matplotlib.figure.Figure at 0x10be04668>"
      ]
     },
     "metadata": {},
     "output_type": "display_data"
    }
   ],
   "source": [
    "def nice_bar_plot(data, ax, title='', y_axis=''):\n",
    "    ax.set_title(title , fontsize=16, fontweight='bold',color = 'darkgreen')\n",
    "    ax.set_xlabel(data.name); ax.set_ylabel(y_axis)\n",
    "    sns.barplot(x=data.value_counts().keys().values, y=data.value_counts().values,  ax=ax)\n",
    "    locs, labels = plt.xticks()\n",
    "    plt.setp(labels, rotation=90)\n",
    "fig, axes = plt.subplots(2, 2, figsize=(16,16))\n",
    "nice_bar_plot(df['sex'], axes[0,0],'Sex', 'Occurences Count')\n",
    "nice_bar_plot(np.floor(df['age'].divide(10))*10, axes[0,1],'Age', 'Occurences Count')\n",
    "nice_bar_plot(df['embarked'], axes[1,0],'Embarkation Port', 'Occurences Count')\n",
    "nice_bar_plot(df['pclass'], axes[1,1],'Travel Class', 'Occurences Count')\n",
    "plt.show()"
   ]
  },
  {
   "cell_type": "markdown",
   "metadata": {},
   "source": [
    "## 3.3 <span style=\"color:Green\">Calculate the proportion of passengers by cabin floor. Present your results in a pie chart. </span>"
   ]
  },
  {
   "cell_type": "markdown",
   "metadata": {},
   "source": [
    "As previously mentioned, we have around 1000 missing values for both *cabin* and *floors* making the following proportions not very reliable. "
   ]
  },
  {
   "cell_type": "code",
   "execution_count": 34,
   "metadata": {},
   "outputs": [
    {
     "name": "stdout",
     "output_type": "stream",
     "text": [
      "It is worthy to note that around 77.4637127578% of the data is missing.\n"
     ]
    },
    {
     "data": {
      "image/png": "[encoded data removed]",
      "text/plain": [
       "<matplotlib.figure.Figure at 0x10be0afd0>"
      ]
     },
     "metadata": {},
     "output_type": "display_data"
    }
   ],
   "source": [
    "print(\"It is worthy to note that around \" + str(np.sum(df['cabin'].isnull())/(len(df['cabin']))*100) + \"% of the data is missing.\")\n",
    "fig, axes = plt.subplots(1, 1, figsize=(16,16))\n",
    "ay = plt.subplot(1, 1, 1)\n",
    "labels = ['Floor: ' + s for s in df['floors'].value_counts().keys().values]\n",
    "explode = [0.1,0,0,0,0,0,0,0]\n",
    "plt.pie(df['floors'].value_counts().values, labels=labels,explode = explode,shadow=True, startangle = 140,autopct='%1.1f%%' )\n",
    "plt.title(\"Proportion of Passengers by Cabin Floor \")\n",
    "plt.show()"
   ]
  },
  {
   "cell_type": "markdown",
   "metadata": {},
   "source": [
    "## 3.4 <span style=\"color:Green\">For each travel class, calculate the proportion of the passengers that survived. Present your results in pie charts. </span>"
   ]
  },
  {
   "cell_type": "markdown",
   "metadata": {},
   "source": [
    "As we don't have any missing data in either the \"Survived\" attribute or \"Pclass\" attribute, we can say that the data shown is a good representative. Additionally, we can see that the lower the passenger class (higher value in DataFrame), the lower the survival rate. This is logical as first class cabins might provide better escape plans. Also, it's probable that the priority has been given to first class passengers. To better visualize the survival rate - passenger class relation, we can take a look at the plot in axes[1,1]. The relation is almost perfectly linear."
   ]
  },
  {
   "cell_type": "code",
   "execution_count": 35,
   "metadata": {},
   "outputs": [
    {
     "name": "stdout",
     "output_type": "stream",
     "text": [
      "In class: 1 The percentage of people who survived (1) and didn't survive (0) is: \n",
      "0    38.080495\n",
      "1    61.919505\n",
      "Name: survived, dtype: float64\n",
      "In class: 2 The percentage of people who survived (1) and didn't survive (0) is: \n",
      "0    57.039711\n",
      "1    42.960289\n",
      "Name: survived, dtype: float64\n",
      "In class: 3 The percentage of people who survived (1) and didn't survive (0) is: \n",
      "0    74.471086\n",
      "1    25.528914\n",
      "Name: survived, dtype: float64\n",
      "[0.61919504643962853, 0.4296028880866426, 0.25528913963328631]\n"
     ]
    },
    {
     "data": {
      "image/png": "[encoded data removed]",
      "text/plain": [
       "<matplotlib.figure.Figure at 0x110c13c50>"
      ]
     },
     "metadata": {},
     "output_type": "display_data"
    }
   ],
   "source": [
    "fig, axes = plt.subplots(2, 2, figsize=(16,16))\n",
    "df[df['pclass']==1]['survived'].value_counts().values\n",
    "i=1\n",
    "#for s in set(df['pclass'].value_counts().keys().values):\n",
    "#    print(df[df['pclass']==s]['survived'].value_counts())\n",
    "for s in set(df['pclass'].value_counts().keys().values):\n",
    "        print(\"In class: \" + str(s) + \" The percentage of people who survived (1) and didn't survive (0) is: \" + \n",
    "              \"\\n\" + str((df[df['pclass']==s]['survived'].value_counts(sort=False)).\n",
    "              divide((df[df['pclass']==s]['survived'].value_counts(sort=False).sum()))*100))\n",
    "        ay = plt.subplot(2, 2, i)\n",
    "        ay.set_title(\"Passenger Class: \" + str(s) , fontsize=12, fontweight='bold')\n",
    "        plt.pie(df[df['pclass']==s]['survived'].value_counts(sort=False).values,autopct='%1.1f%%', labels = [\"Didn't Survive\", \"Survived\"])\n",
    "        i = i+1\n",
    "survivearray = []       \n",
    "for s in range(1,4):\n",
    "    \n",
    "    a = df[df['pclass']==s]['survived'].value_counts(sort=False).divide((df[df['pclass']==s]['survived'].value_counts(sort=False).sum()))[1]\n",
    "    survivearray.append(a)\n",
    "   \n",
    "    \n",
    "print(survivearray)\n",
    "ax = plt.subplot(2, 2, 4)\n",
    "\n",
    "plt.plot([1.0,2.0,3], survivearray)\n",
    "ax.set_xlabel(\"Passenger Class\")\n",
    "ax.set_ylabel(\"Survival Rate Percentage\")\n",
    "plt.show()\n",
    "\n"
   ]
  },
  {
   "cell_type": "markdown",
   "metadata": {},
   "source": [
    "## 3.5 <span style=\"color:Green\">Calculate the proportion of the passengers that survived by travel class and sex. Present your results in a single histogram. </span>"
   ]
  },
  {
   "cell_type": "code",
   "execution_count": 36,
   "metadata": {},
   "outputs": [
    {
     "data": {
      "image/png": "[encoded data removed]",
      "text/plain": [
       "<matplotlib.figure.Figure at 0x110beb9e8>"
      ]
     },
     "metadata": {},
     "output_type": "display_data"
    }
   ],
   "source": [
    "sns.set(style=\"dark\")\n",
    "gplot = sns.factorplot(\"pclass\", \"survived\", \"sex\", data=df, size=8, kind=\"bar\", palette=\"hls\")\n",
    "gplot.set_ylabels(\"Proportion of Survived Passengers by \\\"Travel Class\\\" and \\\"Sex\\\"\")\n",
    "gplot.set_xlabels(\"Passenger Class\")\n",
    "plt.show()"
   ]
  },
  {
   "cell_type": "markdown",
   "metadata": {},
   "source": [
    "## 3.6 <span style=\"color:Green\">Create 2 equally populated age categories and calculate survival proportions by age category, travel class and sex. Present your results in a DataFrame with unique index.</span>"
   ]
  },
  {
   "cell_type": "markdown",
   "metadata": {},
   "source": [
    "Firstly, we need to split the age attribute into two equally populated categories based on the median. To avoid further complexities related to running the median operation a second time on the categorical age, we create an additional attribute *agecat* containing the categorical age. "
   ]
  },
  {
   "cell_type": "markdown",
   "metadata": {},
   "source": [
    "However, we notice that after splitting, the two categories are not exactly equally populated with 536 passengers in the first category and 510 in the second. This is due to the fact that there are many people with the age 28. This problem is unavoidable, given that you can't categorize people with the age 28 into two different categories. "
   ]
  },
  {
   "cell_type": "code",
   "execution_count": 37,
   "metadata": {
    "scrolled": true
   },
   "outputs": [
    {
     "data": {
      "text/plain": [
       "(0.0, 28.0]     536\n",
       "(28.0, 80.0]    510\n",
       "Name: agecat, dtype: int64"
      ]
     },
     "execution_count": 37,
     "metadata": {},
     "output_type": "execute_result"
    }
   ],
   "source": [
    "df['agecat'] = pd.cut(df.age, [0, df['age'].median(), df['age'].max()])\n",
    "df['agecat'].value_counts()"
   ]
  },
  {
   "cell_type": "code",
   "execution_count": 38,
   "metadata": {},
   "outputs": [
    {
     "name": "stdout",
     "output_type": "stream",
     "text": [
      "Index is unique ?  True\n"
     ]
    },
    {
     "data": {
      "text/html": [
       "<div>\n",
       "<style>\n",
       "    .dataframe thead tr:only-child th {\n",
       "        text-align: right;\n",
       "    }\n",
       "\n",
       "    .dataframe thead th {\n",
       "        text-align: left;\n",
       "    }\n",
       "\n",
       "    .dataframe tbody tr th {\n",
       "        vertical-align: top;\n",
       "    }\n",
       "</style>\n",
       "<table border=\"1\" class=\"dataframe\">\n",
       "  <thead>\n",
       "    <tr style=\"text-align: right;\">\n",
       "      <th></th>\n",
       "      <th></th>\n",
       "      <th></th>\n",
       "      <th>0</th>\n",
       "    </tr>\n",
       "    <tr>\n",
       "      <th>agecat</th>\n",
       "      <th>sex</th>\n",
       "      <th>pclass</th>\n",
       "      <th></th>\n",
       "    </tr>\n",
       "  </thead>\n",
       "  <tbody>\n",
       "    <tr>\n",
       "      <th rowspan=\"6\" valign=\"top\">(0.0, 28.0]</th>\n",
       "      <th rowspan=\"3\" valign=\"top\">female</th>\n",
       "      <th>1</th>\n",
       "      <td>95.121951</td>\n",
       "    </tr>\n",
       "    <tr>\n",
       "      <th>2</th>\n",
       "      <td>91.071429</td>\n",
       "    </tr>\n",
       "    <tr>\n",
       "      <th>3</th>\n",
       "      <td>51.376147</td>\n",
       "    </tr>\n",
       "    <tr>\n",
       "      <th rowspan=\"3\" valign=\"top\">male</th>\n",
       "      <th>1</th>\n",
       "      <td>53.125000</td>\n",
       "    </tr>\n",
       "    <tr>\n",
       "      <th>2</th>\n",
       "      <td>21.621622</td>\n",
       "    </tr>\n",
       "    <tr>\n",
       "      <th>3</th>\n",
       "      <td>18.303571</td>\n",
       "    </tr>\n",
       "    <tr>\n",
       "      <th rowspan=\"6\" valign=\"top\">(28.0, 80.0]</th>\n",
       "      <th rowspan=\"3\" valign=\"top\">female</th>\n",
       "      <th>1</th>\n",
       "      <td>96.739130</td>\n",
       "    </tr>\n",
       "    <tr>\n",
       "      <th>2</th>\n",
       "      <td>87.234043</td>\n",
       "    </tr>\n",
       "    <tr>\n",
       "      <th>3</th>\n",
       "      <td>37.209302</td>\n",
       "    </tr>\n",
       "    <tr>\n",
       "      <th rowspan=\"3\" valign=\"top\">male</th>\n",
       "      <th>1</th>\n",
       "      <td>30.252101</td>\n",
       "    </tr>\n",
       "    <tr>\n",
       "      <th>2</th>\n",
       "      <td>8.333333</td>\n",
       "    </tr>\n",
       "    <tr>\n",
       "      <th>3</th>\n",
       "      <td>14.400000</td>\n",
       "    </tr>\n",
       "  </tbody>\n",
       "</table>\n",
       "</div>"
      ],
      "text/plain": [
       "                                    0\n",
       "agecat       sex    pclass           \n",
       "(0.0, 28.0]  female 1       95.121951\n",
       "                    2       91.071429\n",
       "                    3       51.376147\n",
       "             male   1       53.125000\n",
       "                    2       21.621622\n",
       "                    3       18.303571\n",
       "(28.0, 80.0] female 1       96.739130\n",
       "                    2       87.234043\n",
       "                    3       37.209302\n",
       "             male   1       30.252101\n",
       "                    2        8.333333\n",
       "                    3       14.400000"
      ]
     },
     "execution_count": 38,
     "metadata": {},
     "output_type": "execute_result"
    }
   ],
   "source": [
    "counts = df.groupby(['agecat', 'sex', 'pclass'])['survived'].agg(['count'])['count']\n",
    "t = df.groupby(['agecat', 'sex', 'pclass'])['survived'].sum() #Since survived gives a 1 and the opposite gives 0, we can use\n",
    "                                                           #sum() to calculate the number of people who survived, grouped by age,\n",
    "                                                           #sex, and passenger class.\n",
    "df_SurvivalRate = pd.DataFrame(t.divide(counts)*100)\n",
    "print('Index is unique ? ', df_SurvivalRate.index.is_unique)\n",
    "df_SurvivalRate"
   ]
  }
 ],
 "metadata": {
  "kernelspec": {
   "display_name": "Python 3",
   "language": "python",
   "name": "python3"
  },
  "language_info": {
   "codemirror_mode": {
    "name": "ipython",
    "version": 3
   },
   "file_extension": ".py",
   "mimetype": "text/x-python",
   "name": "python",
   "nbconvert_exporter": "python",
   "pygments_lexer": "ipython3",
   "version": "3.6.2"
  }
 },
 "nbformat": 4,
 "nbformat_minor": 2
}
