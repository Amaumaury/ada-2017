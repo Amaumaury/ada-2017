{
 "cells": [
  {
   "cell_type": "markdown",
   "metadata": {},
   "source": [
    "# Table of Contents\n",
    " <p><div class=\"lev1\"><a href=\"#Task-1.-Compiling-Ebola-Data\"><span class=\"toc-item-num\">Task 1.&nbsp;&nbsp;</span>Compiling Ebola Data</a></div>\n",
    " <div class=\"lev1\"><a href=\"#Task-2.-RNA-Sequences\"><span class=\"toc-item-num\">Task 2.&nbsp;&nbsp;</span>RNA Sequences</a></div>\n",
    " <div class=\"lev1\"><a href=\"#Task-3.-Class-War-in-Titanic\"><span class=\"toc-item-num\">Task 3.&nbsp;&nbsp;</span>Class War in Titanic</a></div></p>"
   ]
  },
  {
   "cell_type": "code",
   "execution_count": null,
   "metadata": {
    "collapsed": true
   },
   "outputs": [],
   "source": [
    "import pandas as pd\n",
    "import numpy as np\n",
    "import glob, os\n",
    "import random\n",
    "pd.options.mode.chained_assignment = None\n",
    "idx = pd.IndexSlice"
   ]
  },
  {
   "cell_type": "code",
   "execution_count": null,
   "metadata": {
    "collapsed": true
   },
   "outputs": [],
   "source": [
    "DATA_FOLDER = '../Data' # Use the data folder provided in Tutorial 02 - Intro to Pandas."
   ]
  },
  {
   "cell_type": "markdown",
   "metadata": {},
   "source": [
    "## Task 1. Compiling Ebola Data\n",
    "\n",
    "The `DATA_FOLDER/ebola` folder contains summarized reports of Ebola cases from three countries (Guinea, Liberia and Sierra Leone) during the recent outbreak of the disease in West Africa. For each country, there are daily reports that contain various information about the outbreak in several cities in each country.\n",
    "\n",
    "Use pandas to import these data files into a single `Dataframe`.\n",
    "Using this `DataFrame`, calculate for *each country*, the *daily average per month* of *new cases* and *deaths*.\n",
    "Make sure you handle all the different expressions for *new cases* and *deaths* that are used in the reports."
   ]
  },
  {
   "cell_type": "markdown",
   "metadata": {},
   "source": [
    "***"
   ]
  },
  {
   "cell_type": "markdown",
   "metadata": {},
   "source": [
    "### Assumptions"
   ]
  },
  {
   "cell_type": "markdown",
   "metadata": {},
   "source": [
    "In order to clean the data, we made the following assumptions : \n",
    "- A person, counted in one of the three categories (i.e. confirmed, suspect, probable) for deaths and cases, can't be counted in another category. This reasonnable assumption guarantees that we are not counting people multiple times when computing the means.\n",
    "- As told during the lab session, we consider the Totals/National field for each country as consistent with respect to the different region/cities reports\n",
    "- Cumulative description/variable (e.g. Total deaths of confirmed) are assumed to carry all items from previous days that has not been registered. More precisely, let d1 and d2 be two dates such that d1 < d2  and d2 - d1 > 1 (with respect to time). Then d2 contains information about the corresponding description from d1 + 1 to d2. "
   ]
  },
  {
   "cell_type": "markdown",
   "metadata": {},
   "source": [
    "***"
   ]
  },
  {
   "cell_type": "markdown",
   "metadata": {},
   "source": [
    "### Loading the data for each country"
   ]
  },
  {
   "cell_type": "code",
   "execution_count": null,
   "metadata": {
    "collapsed": true
   },
   "outputs": [],
   "source": [
    "def load_country(country_name):\n",
    "    return pd.concat(map(pd.read_csv, glob.glob(r'' + DATA_FOLDER + '/ebola/' + country_name + '_data/*.csv')))"
   ]
  },
  {
   "cell_type": "code",
   "execution_count": null,
   "metadata": {},
   "outputs": [],
   "source": [
    "#Load the data into a dataframe for each country\n",
    "guinea_dataframe = load_country('guinea')\n",
    "liberia_dataframe = load_country('liberia')\n",
    "sierraleone_dataframe = load_country('sl')\n",
    "\n",
    "#Print columns label\n",
    "print('Guinea:', guinea_dataframe.columns.get_values())\n",
    "print('Liberia:', liberia_dataframe.columns.get_values())\n",
    "print('Sierra Leone:', sierraleone_dataframe.columns.get_values())"
   ]
  },
  {
   "cell_type": "markdown",
   "metadata": {},
   "source": [
    "***"
   ]
  },
  {
   "cell_type": "markdown",
   "metadata": {},
   "source": [
    "### Selecting the interesting descriptions/variables "
   ]
  },
  {
   "cell_type": "code",
   "execution_count": null,
   "metadata": {},
   "outputs": [],
   "source": [
    "guinea_descriptions = set(guinea_dataframe.Description.values.tolist())\n",
    "liberia_descriptions = set(liberia_dataframe.Variable.values.tolist())\n",
    "sierraleone_descriptions = set(sierraleone_dataframe.variable.values.tolist())\n",
    "\n",
    "print(len(guinea_descriptions))\n",
    "print(len(liberia_descriptions))\n",
    "print(len(sierraleone_descriptions))"
   ]
  },
  {
   "cell_type": "code",
   "execution_count": null,
   "metadata": {
    "scrolled": false
   },
   "outputs": [],
   "source": [
    "# All possible descriptions for guinea\n",
    "print(guinea_descriptions)\n",
    "\n",
    "# From which we decided to keep only the following descriptions\n",
    "filtered_guinea_descriptions = ['New cases of confirmed', \n",
    "                                'New cases of suspects', \n",
    "                                'New cases of probables',\n",
    "                                'Total deaths of confirmed',\n",
    "                                'Total deaths of suspects',\n",
    "                                'Total deaths of probables']\n",
    "\n",
    "# Rename dictionary that will be useful later\n",
    "guinea_rename_dict = {'New cases of confirmed': 'cases_confirmed',\n",
    "                      'New cases of suspects': 'cases_suspected',\n",
    "                      'New cases of probables': 'cases_probable',\n",
    "                      'Total deaths of confirmed': 'deaths_confirmed',\n",
    "                      'Total deaths of suspects': 'deaths_suspected',\n",
    "                      'Total deaths of probables': 'deaths_probable'}"
   ]
  },
  {
   "cell_type": "markdown",
   "metadata": {},
   "source": [
    "For guinea, the descriptions 'New deaths registered today (probables)' and 'New deaths registered today (suspects)' or not really interesting as there are only available for one day and equal to 0. Moreover the description 'New deaths registered today (confirmed)' is also available during only one day and is a redundancy of the description 'New deaths registered today'. Thus we decided to drop those descriptions."
   ]
  },
  {
   "cell_type": "code",
   "execution_count": null,
   "metadata": {
    "scrolled": false
   },
   "outputs": [],
   "source": [
    "# All possible descriptions for liberia\n",
    "print(liberia_descriptions)\n",
    "\n",
    "# From which we decided to keep only the following descriptions\n",
    "filtered_liberia_descriptions = ['New case/s (confirmed)', \n",
    "                                 'New Case/s (Suspected)', \n",
    "                                 'New Case/s (Probable)',\n",
    "                                 'Total death/s in confirmed cases',\n",
    "                                 'Total death/s in suspected cases',\n",
    "                                 'Total death/s in probable cases']\n",
    "\n",
    "liberia_rename_dict = {'New case/s (confirmed)': 'cases_confirmed',\n",
    "                       'New Case/s (Suspected)': 'cases_suspected',\n",
    "                       'New Case/s (Probable)': 'cases_probable',\n",
    "                       'Total death/s in confirmed cases': 'deaths_confirmed',\n",
    "                       'Total death/s in suspected cases': 'deaths_suspected',\n",
    "                       'Total death/s in probable cases': 'deaths_probable'}"
   ]
  },
  {
   "cell_type": "code",
   "execution_count": null,
   "metadata": {
    "scrolled": true
   },
   "outputs": [],
   "source": [
    "# All possible descriptions for Sierra Leone\n",
    "print(sierraleone_descriptions)\n",
    "\n",
    "# From which we decided to keep only the following descriptions\n",
    "filtered_sierraleone_descriptions = ['death_confirmed', \n",
    "                                     'death_probable', \n",
    "                                     'death_suspected',\n",
    "                                     'new_confirmed', \n",
    "                                     'new_probable', \n",
    "                                     'new_suspected']\n",
    "\n",
    "sierraleone_rename_dict = {'death_confirmed': 'deaths_confirmed',\n",
    "                           'death_suspected': 'deaths_suspected',\n",
    "                           'death_probable': 'deaths_probable',\n",
    "                           'new_confirmed': 'cases_confirmed',\n",
    "                           'new_probable': 'cases_probable',\n",
    "                           'new_suspected': 'cases_suspected'}"
   ]
  },
  {
   "cell_type": "markdown",
   "metadata": {},
   "source": [
    "***"
   ]
  },
  {
   "cell_type": "markdown",
   "metadata": {},
   "source": [
    "### Cleaning the dataframes"
   ]
  },
  {
   "cell_type": "markdown",
   "metadata": {},
   "source": [
    "#### General cleaning"
   ]
  },
  {
   "cell_type": "code",
   "execution_count": null,
   "metadata": {},
   "outputs": [],
   "source": [
    "# Check for duplicates\n",
    "print('Guinea has duplicates ?', True in guinea_dataframe.duplicated(subset=['Date', 'Description']).values)\n",
    "print('Liberia has duplicates ?', True in liberia_dataframe.duplicated(subset=['Date', 'Variable']).values)\n",
    "print('Sierra Leone has duplicates ?', True in sierraleone_dataframe.duplicated(subset=['date', 'variable']).values)"
   ]
  },
  {
   "cell_type": "code",
   "execution_count": null,
   "metadata": {
    "collapsed": true
   },
   "outputs": [],
   "source": [
    "# Remove duplicates\n",
    "liberia_dataframe = liberia_dataframe.drop_duplicates(['Date', 'Variable'])\n",
    "sierraleone_dataframe = sierraleone_dataframe.drop_duplicates(['date', 'variable'])"
   ]
  },
  {
   "cell_type": "code",
   "execution_count": null,
   "metadata": {},
   "outputs": [],
   "source": [
    "# Keep only interesting columns\n",
    "guinea_dataframe = guinea_dataframe[['Date', 'Description', 'Totals']]\n",
    "liberia_dataframe = liberia_dataframe[['Date', 'Variable', 'National']]\n",
    "sierraleone_dataframe = sierraleone_dataframe[['date', 'variable', 'National']]\n",
    "\n",
    "# Standardize the date field for each dataframe\n",
    "guinea_dataframe.Date = pd.to_datetime(guinea_dataframe.Date)\n",
    "liberia_dataframe.Date = pd.to_datetime(liberia_dataframe.Date)\n",
    "sierraleone_dataframe.date = pd.to_datetime(sierraleone_dataframe.date)\n",
    "\n",
    "# Keep only the insteresting variables/descriptions\n",
    "guinea_dataframe = guinea_dataframe[[des in filtered_guinea_descriptions for des in guinea_dataframe.Description]]\n",
    "liberia_dataframe = liberia_dataframe[[var in filtered_liberia_descriptions for var in liberia_dataframe.Variable]]\n",
    "sierraleone_dataframe = sierraleone_dataframe[[var in filtered_sierraleone_descriptions for var in sierraleone_dataframe.variable]]\n",
    "\n",
    "# Remove rows with missing value\n",
    "guinea_dataframe = guinea_dataframe.dropna()\n",
    "liberia_dataframe = liberia_dataframe.dropna()\n",
    "sierraleone_dataframe = sierraleone_dataframe.dropna()\n",
    "\n",
    "# Cast all values to int\n",
    "guinea_dataframe.Totals = guinea_dataframe.Totals.astype(int)\n",
    "liberia_dataframe.National = liberia_dataframe.National.astype(int)\n",
    "sierraleone_dataframe.National = sierraleone_dataframe.National.astype(int)\n",
    "\n",
    "# Rename all reports (i.e. variable/description)\n",
    "guinea_dataframe.Description = guinea_dataframe.Description.apply(lambda des: guinea_rename_dict[des]) \n",
    "liberia_dataframe.Variable = liberia_dataframe.Variable.apply(lambda var: liberia_rename_dict[var])\n",
    "sierraleone_dataframe.variable = sierraleone_dataframe.variable.apply(lambda var: sierraleone_rename_dict[var])\n"
   ]
  },
  {
   "cell_type": "markdown",
   "metadata": {},
   "source": [
    "#### Cleaning Guinea dataframe"
   ]
  },
  {
   "cell_type": "markdown",
   "metadata": {},
   "source": [
    "After looking at the guinea dataframe, we noticed that the original 'Total deaths...' descriptions were cumulative values. We thus had to get the daily new deaths cases for each day. This is what is done in the cell below."
   ]
  },
  {
   "cell_type": "code",
   "execution_count": null,
   "metadata": {},
   "outputs": [],
   "source": [
    "def clean_cum_guinea(des_name, df):\n",
    "    r_df = df.copy()\n",
    "    guinea_parts_to_clean = r_df[r_df.Description == des_name]\n",
    "    guinea_parts_to_clean = guinea_parts_to_clean.set_index(['Date', 'Description']).sort_index()\n",
    "    \n",
    "    cleaned_guinea_parts = (guinea_parts_to_clean - guinea_parts_to_clean.shift(1))\n",
    "    \n",
    "    idx = pd.IndexSlice\n",
    "    r_df = r_df.set_index(['Date', 'Description']).sort_index()\n",
    "    r_df.loc[idx[:, [des_name]], :] = cleaned_guinea_parts\n",
    "    r_df = r_df.dropna().reset_index()\n",
    "    return r_df\n",
    "    \n",
    "guinea_dataframe = clean_cum_guinea('deaths_confirmed', guinea_dataframe)\n",
    "guinea_dataframe = clean_cum_guinea('deaths_suspected', guinea_dataframe)\n",
    "guinea_dataframe = clean_cum_guinea('deaths_probable', guinea_dataframe)"
   ]
  },
  {
   "cell_type": "markdown",
   "metadata": {},
   "source": [
    "Notice from the guinea dataframe below that **some reports yield negative values**. Unless they were giving unexpected average values, we generaly decided to interpret them as corrections on previous reports and thus keep them. "
   ]
  },
  {
   "cell_type": "code",
   "execution_count": null,
   "metadata": {
    "scrolled": true
   },
   "outputs": [],
   "source": [
    "guinea_dataframe"
   ]
  },
  {
   "cell_type": "markdown",
   "metadata": {},
   "source": [
    "#### Cleaning Liberia dataframe"
   ]
  },
  {
   "cell_type": "code",
   "execution_count": null,
   "metadata": {},
   "outputs": [],
   "source": [
    "# Last record for in liberia_new_deaths_... is equal to 0 which is a dirty value as it should be greater than the value in the precedent record\n",
    "# '...' here means {'confirmed', 'probable', 'suspected'}\n",
    "\n",
    "liberia_dataframe = liberia_dataframe.set_index(['Date', 'Variable']).sort_index()\n",
    "\n",
    "index0 = liberia_dataframe.loc[idx[:, 'deaths_confirmed'], :][-1:].index\n",
    "index1 = liberia_dataframe.loc[idx[:, 'deaths_probable'], :][-1:].index\n",
    "index2 = liberia_dataframe.loc[idx[:, 'deaths_suspected'], :][-1:].index\n",
    "\n",
    "liberia_dataframe = liberia_dataframe.drop(index0)\n",
    "liberia_dataframe = liberia_dataframe.drop(index1)\n",
    "liberia_dataframe = liberia_dataframe.drop(index2)\n",
    "\n",
    "liberia_dataframe = liberia_dataframe.reset_index()"
   ]
  },
  {
   "cell_type": "markdown",
   "metadata": {},
   "source": [
    "We can see, from the liberia datafame below, that some rows at the end are dirty as they switch to a cumulative fashion. "
   ]
  },
  {
   "cell_type": "code",
   "execution_count": null,
   "metadata": {
    "scrolled": true
   },
   "outputs": [],
   "source": [
    "liberia_dataframe[-30:]"
   ]
  },
  {
   "cell_type": "code",
   "execution_count": null,
   "metadata": {},
   "outputs": [],
   "source": [
    "# This cell deals with the cumulative values found at the end of the dataframe for certain reports\n",
    "\n",
    "dirty_rows_liberia = liberia_dataframe[liberia_dataframe.Date > pd.datetime(2014, 12, 2)]\n",
    "dirty_rows_liberia = dirty_rows_liberia.set_index(['Date', 'Variable']).sort_index()\n",
    "\n",
    "cleaned_rows_liberia = dirty_rows_liberia - dirty_rows_liberia.shift(3)\n",
    "\n",
    "liberia_dataframe = liberia_dataframe.set_index(['Date', 'Variable']).sort_index()\n",
    "liberia_dataframe.loc[pd.datetime(2014, 12, 4):, :] = cleaned_rows_liberia\n",
    "liberia_dataframe = liberia_dataframe.dropna().reset_index()"
   ]
  },
  {
   "cell_type": "code",
   "execution_count": null,
   "metadata": {},
   "outputs": [],
   "source": [
    "# This cell deals with cumulative records (similar to the guinea cleaning case)\n",
    "\n",
    "def clean_cum_liberia(des_name, df):\n",
    "    r_df = df.copy()\n",
    "    liberia_parts_to_clean = r_df[r_df.Variable == des_name]\n",
    "    liberia_parts_to_clean = liberia_parts_to_clean.set_index(['Date', 'Variable']).sort_index()\n",
    "    \n",
    "    cleaned_liberia_parts = (liberia_parts_to_clean - liberia_parts_to_clean.shift(1))\n",
    "    \n",
    "    idx = pd.IndexSlice\n",
    "    r_df = r_df.set_index(['Date', 'Variable']).sort_index()\n",
    "    r_df.loc[idx[:, [des_name]], :] = cleaned_liberia_parts\n",
    "    r_df = r_df.dropna().reset_index()\n",
    "    return r_df\n",
    "\n",
    "liberia_dataframe = clean_cum_liberia('deaths_confirmed', liberia_dataframe)\n",
    "liberia_dataframe = clean_cum_liberia('deaths_suspected', liberia_dataframe)\n",
    "liberia_dataframe = clean_cum_liberia('deaths_probable', liberia_dataframe)"
   ]
  },
  {
   "cell_type": "markdown",
   "metadata": {},
   "source": [
    "#### Cleaning Sierra Leone dataframe"
   ]
  },
  {
   "cell_type": "code",
   "execution_count": null,
   "metadata": {},
   "outputs": [],
   "source": [
    "# This cell deals with cumulative values (similar to guinea and liberia cases)\n",
    "\n",
    "sierraleone_dataframe_copy = sierraleone_dataframe.copy().set_index(['date', 'variable']).unstack()\n",
    "tmp = sierraleone_dataframe.set_index(['date', 'variable']).unstack()\n",
    "tmp = tmp.National[['deaths_confirmed', 'deaths_probable', 'deaths_suspected']]\n",
    "cleaned = (tmp - tmp.shift(1)).fillna(value=0)\n",
    "\n",
    "sierraleone_dataframe_copy.National.loc[1:, ['deaths_confirmed', 'deaths_probable', 'deaths_suspected']] = cleaned[1:]\n",
    "sierraleone_dataframe = sierraleone_dataframe_copy.stack().reset_index()[3:]"
   ]
  },
  {
   "cell_type": "code",
   "execution_count": null,
   "metadata": {},
   "outputs": [],
   "source": [
    "# Remove first three lines \n",
    "sierraleone_dataframe = sierraleone_dataframe[3:]"
   ]
  },
  {
   "cell_type": "markdown",
   "metadata": {},
   "source": [
    "***"
   ]
  },
  {
   "cell_type": "markdown",
   "metadata": {},
   "source": [
    "### Aggregation and merging"
   ]
  },
  {
   "cell_type": "code",
   "execution_count": null,
   "metadata": {},
   "outputs": [],
   "source": [
    "# Keeps only the year and month of each report\n",
    "guinea_dataframe['Period'] = guinea_dataframe.Date.dt.to_period('M')\n",
    "liberia_dataframe['Period'] = liberia_dataframe.Date.dt.to_period('M')\n",
    "sierraleone_dataframe['Period'] = sierraleone_dataframe.date.dt.to_period('M')\n",
    "\n",
    "# Keep only the day number of the month. It will be necessary when computing the means\n",
    "guinea_dataframe.Date = guinea_dataframe.Date.apply(lambda x: x.day)\n",
    "liberia_dataframe.Date = liberia_dataframe.Date.apply(lambda x: x.day)\n",
    "sierraleone_dataframe.date = sierraleone_dataframe.date.apply(lambda x: x.day)\n",
    "\n",
    "# Add a country column to each dataframe. This is required to merge the 3 different dataframes.\n",
    "guinea_dataframe['Country'] = 'Guinea'\n",
    "liberia_dataframe['Country'] = 'Liberia'\n",
    "sierraleone_dataframe['Country'] = 'Sierraleone'"
   ]
  },
  {
   "cell_type": "code",
   "execution_count": null,
   "metadata": {},
   "outputs": [],
   "source": [
    "# Compute averages for each month\n",
    "averages_guinea_dataframe = pd.DataFrame(guinea_dataframe.groupby(['Country', 'Period', 'Description']).apply(lambda group: max(group['Totals'].sum() / group['Date'].max(), 0)))\n",
    "averages_liberia_dataframe = pd.DataFrame(liberia_dataframe.groupby(['Country', 'Period', 'Variable']).apply(lambda group: group['National'].sum() / group['Date'].max()))\n",
    "averages_sierraleone_dataframe = pd.DataFrame(sierraleone_dataframe.groupby(['Country', 'Period', 'variable']).apply(lambda group: group['National'].sum() / group['date'].max()))\n",
    "\n",
    "# Remove index\n",
    "averages_guinea_dataframe = averages_guinea_dataframe.reset_index()\n",
    "averages_liberia_dataframe = averages_liberia_dataframe.reset_index()\n",
    "averages_sierraleone_dataframe = averages_sierraleone_dataframe.reset_index()\n",
    "\n",
    "# Rename columns\n",
    "averages_guinea_dataframe.columns = ['country', 'date', 'report', 'average']\n",
    "averages_liberia_dataframe.columns = ['country', 'date', 'report', 'average']\n",
    "averages_sierraleone_dataframe.columns = ['country', 'date', 'report', 'average']\n",
    "\n",
    "# Stack all averages into one dataframe\n",
    "all_averages_dataframe = pd.concat([averages_guinea_dataframe, averages_liberia_dataframe, averages_sierraleone_dataframe])\n",
    "\n",
    "# Sort final dataframe, set index and unstack result (for readibility reasons)\n",
    "all_averages_dataframe = all_averages_dataframe.sort_values(['date']).set_index(['country', 'date', 'report']).unstack()\n"
   ]
  },
  {
   "cell_type": "code",
   "execution_count": null,
   "metadata": {
    "scrolled": true
   },
   "outputs": [],
   "source": [
    "all_averages_dataframe"
   ]
  },
  {
   "cell_type": "markdown",
   "metadata": {},
   "source": [
    "***"
   ]
  },
  {
   "cell_type": "markdown",
   "metadata": {},
   "source": [
    "## Task 2. RNA Sequences\n",
    "\n",
    "In the `DATA_FOLDER/microbiome` subdirectory, there are 9 spreadsheets of microbiome data that was acquired from high-throughput RNA sequencing procedures, along with a 10<sup>th</sup> file that describes the content of each. \n",
    "\n",
    "Use pandas to import the first 9 spreadsheets into a single `DataFrame`.\n",
    "Then, add the metadata information from the 10<sup>th</sup> spreadsheet as columns in the combined `DataFrame`.\n",
    "Make sure that the final `DataFrame` has a unique index and all the `NaN` values have been replaced by the tag `unknown`."
   ]
  },
  {
   "cell_type": "code",
   "execution_count": null,
   "metadata": {
    "collapsed": true
   },
   "outputs": [],
   "source": [
    "# Write your answer here"
   ]
  },
  {
   "cell_type": "markdown",
   "metadata": {},
   "source": [
    "## Task 3. Class War in Titanic\n",
    "\n",
    "Use pandas to import the data file `Data/titanic.xls`. It contains data on all the passengers that travelled on the Titanic."
   ]
  },
  {
   "cell_type": "code",
   "execution_count": null,
   "metadata": {},
   "outputs": [],
   "source": [
    "from IPython.core.display import HTML\n",
    "HTML(filename=DATA_FOLDER+'/titanic.html')"
   ]
  },
  {
   "cell_type": "markdown",
   "metadata": {},
   "source": [
    "For each of the following questions state clearly your assumptions and discuss your findings:\n",
    "1. Describe the *type* and the *value range* of each attribute. Indicate and transform the attributes that can be `Categorical`. \n",
    "2. Plot histograms for the *travel class*, *embarkation port*, *sex* and *age* attributes. For the latter one, use *discrete decade intervals*. \n",
    "3. Calculate the proportion of passengers by *cabin floor*. Present your results in a *pie chart*.\n",
    "4. For each *travel class*, calculate the proportion of the passengers that survived. Present your results in *pie charts*.\n",
    "5. Calculate the proportion of the passengers that survived by *travel class* and *sex*. Present your results in *a single histogram*.\n",
    "6. Create 2 equally populated *age categories* and calculate survival proportions by *age category*, *travel class* and *sex*. Present your results in a `DataFrame` with unique index."
   ]
  },
  {
   "cell_type": "code",
   "execution_count": null,
   "metadata": {
    "collapsed": true
   },
   "outputs": [],
   "source": [
    "# Write your answer here"
   ]
  }
 ],
 "metadata": {
  "kernelspec": {
   "display_name": "Python 3",
   "language": "python",
   "name": "python3"
  },
  "language_info": {
   "codemirror_mode": {
    "name": "ipython",
    "version": 3
   },
   "file_extension": ".py",
   "mimetype": "text/x-python",
   "name": "python",
   "nbconvert_exporter": "python",
   "pygments_lexer": "ipython3",
   "version": "3.6.2"
  }
 },
 "nbformat": 4,
 "nbformat_minor": 2
}
