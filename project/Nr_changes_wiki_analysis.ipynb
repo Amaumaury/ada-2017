{
 "cells": [
  {
   "cell_type": "code",
   "execution_count": 1,
   "metadata": {},
   "outputs": [],
   "source": [
    "import requests\n",
    "import json\n",
    "import time\n",
    "import datetime\n",
    "from helpers.history_fetcher import HistoryFetcher\n",
    "import dateutil.parser\n",
    "import numpy as np\n",
    "import pandas as pd\n",
    "import matplotlib.pyplot as plt\n",
    "%load_ext autoreload\n",
    "%autoreload 2"
   ]
  },
  {
   "cell_type": "markdown",
   "metadata": {},
   "source": [
    "## Analysis of countries stability <--> wikipedia changes"
   ]
  },
  {
   "cell_type": "code",
   "execution_count": 2,
   "metadata": {},
   "outputs": [],
   "source": [
    "def wiki_change_factor(wiki_name,year_start, outlier_factor):\n",
    "    \n",
    "    # fetch the changes\n",
    "    history_fetcher = HistoryFetcher(wiki_name)\n",
    "    response = history_fetcher.get_history(str(year_start)+'0101000000', '20171128000000')\n",
    "    dates = list(map(lambda revision: revision['timestamp'], response))\n",
    "    dates_pd = pd.DataFrame(dates, columns=['date'])\n",
    "    dates_pd['change']= 1;\n",
    "    \n",
    "    # aggregate per moth\n",
    "    changes_aggregated_month = np.zeros([(2017 - year_start)*12+nr_filt_window,1])\n",
    "    date_last = datetime.date(year=year_start,month=11,day=1)\n",
    "    for y in range(year_start,2017):\n",
    "        for m in range(0,12):\n",
    "            date_current = datetime.date(year=y,month=m+1,day=1)\n",
    "            changes_month = np.sum(dates_pd[ dates_pd['date'] > date_last][ dates_pd['date'] < date_current]['change'])\n",
    "            changes_aggregated_month[-1+m+(y-year_start)*12]=changes_month\n",
    "            date_last = date_current\n",
    "    \n",
    "    changes_aggregated_month = np.squeeze(changes_aggregated_month)\n",
    "    #plt.bar(range(len(changes_aggregated_month)), changes_aggregated_month)\n",
    "    #plt.title('wiki changes/month for' + wiki_name)\n",
    "    #plt.show()\n",
    "    \n",
    "     # select outliers\n",
    "    nr_outliers = np.sum(changes_aggregated_month[changes_aggregated_month > outlier_factor* np.mean(changes_aggregated_month)])\n",
    "    sum_all = np.sum(changes_aggregated_month)\n",
    "    \n",
    "    return nr_outliers/sum_all"
   ]
  },
  {
   "cell_type": "code",
   "execution_count": 3,
   "metadata": {},
   "outputs": [
    {
     "name": "stderr",
     "output_type": "stream",
     "text": [
      "/Users/patryk/anaconda/lib/python3.5/site-packages/ipykernel/__main__.py:16: UserWarning: Boolean Series key will be reindexed to match DataFrame index.\n"
     ]
    },
    {
     "name": "stdout",
     "output_type": "stream",
     "text": [
      "Ukraine 0.527371578553\n",
      "Poland 0.438545688546\n",
      "Spain 0.490640653836\n",
      "Netherlands 0.257175660161\n",
      "France 0.4624\n",
      "Germany 0.469008264463\n",
      "Switzerland 0.319691119691\n"
     ]
    }
   ],
   "source": [
    "countries = ['Ukraine','Poland','Spain', 'Netherlands','France','Germany','Switzerland']\n",
    "for cntry in countries:\n",
    "    print(cntry, wiki_change_factor(cntry, 2010, outlier_factor = 1.5))"
   ]
  },
  {
   "cell_type": "code",
   "execution_count": null,
   "metadata": {
    "collapsed": true
   },
   "outputs": [],
   "source": []
  }
 ],
 "metadata": {
  "kernelspec": {
   "display_name": "Python [default]",
   "language": "python",
   "name": "python3"
  },
  "language_info": {
   "codemirror_mode": {
    "name": "ipython",
    "version": 3
   },
   "file_extension": ".py",
   "mimetype": "text/x-python",
   "name": "python",
   "nbconvert_exporter": "python",
   "pygments_lexer": "ipython3",
   "version": "3.5.4"
  }
 },
 "nbformat": 4,
 "nbformat_minor": 2
}
