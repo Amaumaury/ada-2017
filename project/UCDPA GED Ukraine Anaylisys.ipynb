{
 "cells": [
  {
   "cell_type": "code",
   "execution_count": 58,
   "metadata": {
    "collapsed": true
   },
   "outputs": [],
   "source": [
    "import pandas as pd\n",
    "import numpy as np\n",
    "import json\n",
    "import matplotlib.pyplot as plt\n",
    "import datetime "
   ]
  },
  {
   "cell_type": "markdown",
   "metadata": {},
   "source": [
    "## UCDP GED DATA\n",
    "UCDP Georeferenced Event Dataset (GED) Global version 17.1 (2016)\n",
    "from http://ucdp.uu.se/downloads/ "
   ]
  },
  {
   "cell_type": "code",
   "execution_count": 3,
   "metadata": {},
   "outputs": [],
   "source": [
    "ged_df = pd.read_excel('ged171.xlsx', header=0)"
   ]
  },
  {
   "cell_type": "code",
   "execution_count": 25,
   "metadata": {},
   "outputs": [],
   "source": [
    "ukraine_ged_df = ged_df[ged_df['country']=='Ukraine']\n",
    "cols_to_keep = ['dyad_name','date_start','date_end','deaths_a','deaths_b','deaths_civilians','deaths_unknown']\n",
    "ukraine_ged_df = ukraine_ged_df[cols_to_keep]\n",
    "\n",
    "#convert stinr to date\n",
    "ukraine_ged_df['date_start'] = pd.to_datetime(ukraine_ged_df['date_start'])\n",
    "# adding ukraine death all column\n",
    "ukraine_ged_df['deaths all'] = ukraine_ged_df['deaths_a']+ukraine_ged_df['deaths_b']+ukraine_ged_df['deaths_civilians']+ukraine_ged_df['deaths_unknown']"
   ]
  },
  {
   "cell_type": "code",
   "execution_count": 50,
   "metadata": {},
   "outputs": [
    {
     "data": {
      "text/plain": [
       "Index(['id', 'year', 'active_year', 'type_of_violence', 'conflict_new_id',\n",
       "       'conflict_name', 'dyad_new_id', 'dyad_name', 'side_a_new_id', 'gwnoa',\n",
       "       'side_a', 'side_b_new_id', 'gwnob', 'side_b', 'number_of_sources',\n",
       "       'source_article', 'source_office', 'source_date', 'source_headline',\n",
       "       'source_original', 'where_prec', 'where_coordinates', 'adm_1', 'adm_2',\n",
       "       'latitude', 'longitude', 'geom_wkt', 'priogrid_gid', 'country',\n",
       "       'country_id', 'region', 'event_clarity', 'date_prec', 'date_start',\n",
       "       'date_end', 'deaths_a', 'deaths_b', 'deaths_civilians',\n",
       "       'deaths_unknown', 'best', 'low', 'high'],\n",
       "      dtype='object')"
      ]
     },
     "execution_count": 50,
     "metadata": {},
     "output_type": "execute_result"
    }
   ],
   "source": [
    "ged_df.columns"
   ]
  },
  {
   "cell_type": "code",
   "execution_count": 134,
   "metadata": {},
   "outputs": [
    {
     "data": {
      "text/html": [
       "<div>\n",
       "<style>\n",
       "    .dataframe thead tr:only-child th {\n",
       "        text-align: right;\n",
       "    }\n",
       "\n",
       "    .dataframe thead th {\n",
       "        text-align: left;\n",
       "    }\n",
       "\n",
       "    .dataframe tbody tr th {\n",
       "        vertical-align: top;\n",
       "    }\n",
       "</style>\n",
       "<table border=\"1\" class=\"dataframe\">\n",
       "  <thead>\n",
       "    <tr style=\"text-align: right;\">\n",
       "      <th></th>\n",
       "      <th>dyad_name</th>\n",
       "      <th>date_start</th>\n",
       "      <th>date_end</th>\n",
       "      <th>deaths_a</th>\n",
       "      <th>deaths_b</th>\n",
       "      <th>deaths_civilians</th>\n",
       "      <th>deaths_unknown</th>\n",
       "      <th>deaths all</th>\n",
       "    </tr>\n",
       "  </thead>\n",
       "  <tbody>\n",
       "    <tr>\n",
       "      <th>85031</th>\n",
       "      <td>Government of Ukraine - Maidan</td>\n",
       "      <td>2014-01-22</td>\n",
       "      <td>2014-01-22</td>\n",
       "      <td>0</td>\n",
       "      <td>5</td>\n",
       "      <td>0</td>\n",
       "      <td>0</td>\n",
       "      <td>5</td>\n",
       "    </tr>\n",
       "    <tr>\n",
       "      <th>85126</th>\n",
       "      <td>Government of Ukraine - Maidan</td>\n",
       "      <td>2014-01-27</td>\n",
       "      <td>2014-01-27</td>\n",
       "      <td>0</td>\n",
       "      <td>0</td>\n",
       "      <td>0</td>\n",
       "      <td>1</td>\n",
       "      <td>1</td>\n",
       "    </tr>\n",
       "    <tr>\n",
       "      <th>85140</th>\n",
       "      <td>Government of Ukraine - Maidan</td>\n",
       "      <td>2014-02-18</td>\n",
       "      <td>2014-02-18</td>\n",
       "      <td>10</td>\n",
       "      <td>4</td>\n",
       "      <td>0</td>\n",
       "      <td>12</td>\n",
       "      <td>26</td>\n",
       "    </tr>\n",
       "    <tr>\n",
       "      <th>85141</th>\n",
       "      <td>Government of Ukraine - Maidan</td>\n",
       "      <td>2014-02-18</td>\n",
       "      <td>2014-02-20</td>\n",
       "      <td>0</td>\n",
       "      <td>0</td>\n",
       "      <td>0</td>\n",
       "      <td>2</td>\n",
       "      <td>2</td>\n",
       "    </tr>\n",
       "    <tr>\n",
       "      <th>85142</th>\n",
       "      <td>Government of Ukraine - Maidan</td>\n",
       "      <td>2014-02-20</td>\n",
       "      <td>2014-02-20</td>\n",
       "      <td>2</td>\n",
       "      <td>46</td>\n",
       "      <td>0</td>\n",
       "      <td>0</td>\n",
       "      <td>48</td>\n",
       "    </tr>\n",
       "  </tbody>\n",
       "</table>\n",
       "</div>"
      ],
      "text/plain": [
       "                            dyad_name date_start    date_end  deaths_a  \\\n",
       "85031  Government of Ukraine - Maidan 2014-01-22  2014-01-22         0   \n",
       "85126  Government of Ukraine - Maidan 2014-01-27  2014-01-27         0   \n",
       "85140  Government of Ukraine - Maidan 2014-02-18  2014-02-18        10   \n",
       "85141  Government of Ukraine - Maidan 2014-02-18  2014-02-20         0   \n",
       "85142  Government of Ukraine - Maidan 2014-02-20  2014-02-20         2   \n",
       "\n",
       "       deaths_b  deaths_civilians  deaths_unknown  deaths all  \n",
       "85031         5                 0               0           5  \n",
       "85126         0                 0               1           1  \n",
       "85140         4                 0              12          26  \n",
       "85141         0                 0               2           2  \n",
       "85142        46                 0               0          48  "
      ]
     },
     "execution_count": 134,
     "metadata": {},
     "output_type": "execute_result"
    }
   ],
   "source": [
    "ukraine_ged_df.head()"
   ]
  },
  {
   "cell_type": "code",
   "execution_count": 135,
   "metadata": {},
   "outputs": [
    {
     "data": {
      "text/plain": [
       "<matplotlib.figure.Figure at 0x10ef68828>"
      ]
     },
     "metadata": {},
     "output_type": "display_data"
    },
    {
     "data": {
      "image/png": "[encoded data removed]",
      "text/plain": [
       "<matplotlib.figure.Figure at 0x1127d1828>"
      ]
     },
     "metadata": {},
     "output_type": "display_data"
    }
   ],
   "source": [
    "# Lets see how many deaths they did \n",
    "# We can see this plot is ~~ not that good, Lets aggregate it\n",
    "plt.rcParams['figure.figsize'] = (10,10)\n",
    "plt.figure(); ukraine_df_toplot.plot(kind='bar');\n",
    "plt.xticks(rotation=90)\n",
    "plt.title('Deaths in Ukraine War (only >10)')\n",
    "plt.show()"
   ]
  },
  {
   "cell_type": "code",
   "execution_count": 130,
   "metadata": {},
   "outputs": [
    {
     "name": "stderr",
     "output_type": "stream",
     "text": [
      "/Users/patryk/anaconda/lib/python3.5/site-packages/ipykernel/__main__.py:9: UserWarning: Boolean Series key will be reindexed to match DataFrame index.\n"
     ]
    },
    {
     "data": {
      "image/png": "[encoded data removed]",
      "text/plain": [
       "<matplotlib.figure.Figure at 0x118d48198>"
      ]
     },
     "metadata": {},
     "output_type": "display_data"
    }
   ],
   "source": [
    "# Calculating agregated deaths per month \n",
    "deaths_aggregated = np.zeros([36,1])\n",
    "dates = []\n",
    "date_last = datetime.date(year=2013,month=11,day=1)\n",
    "for y in range(2014,2017):\n",
    "    for m in range(1,13):\n",
    "        dates.append(str(date_current))\n",
    "        date_current = datetime.date(year=y,month=m,day=1)\n",
    "        deaths_month = np.sum(ukraine_ged_df[ ukraine_ged_df['date_start'] > date_last][ ukraine_ged_df['date_start'] < date_current]['deaths all'])\n",
    "        deaths_aggregated[-1+m+(y-2014)*12]=deaths_month\n",
    "        date_last = date_current\n",
    "        \n",
    "dates = np.array(dates)\n",
    "\n",
    "plt.rcParams['figure.figsize'] = (10,10)\n",
    "plt.bar(range(0,36), np.squeeze(deaths_aggregated))\n",
    "plt.xticks(range(0,36), dates, rotation=90)\n",
    "plt.title('Aggregated deaths in Ukraine War by month')\n",
    "plt.ylabel('deaths')\n",
    "plt.xlabel('months')\n",
    "plt.show()"
   ]
  }
 ],
 "metadata": {
  "kernelspec": {
   "display_name": "Python [conda root]",
   "language": "python",
   "name": "conda-root-py"
  },
  "language_info": {
   "codemirror_mode": {
    "name": "ipython",
    "version": 3
   },
   "file_extension": ".py",
   "mimetype": "text/x-python",
   "name": "python",
   "nbconvert_exporter": "python",
   "pygments_lexer": "ipython3",
   "version": "3.5.4"
  }
 },
 "nbformat": 4,
 "nbformat_minor": 2
}
