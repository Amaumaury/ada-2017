{
 "cells": [
  {
   "cell_type": "markdown",
   "metadata": {},
   "source": [
    "# Table of Contents\n",
    " <p><div class=\"lev1\"><a href=\"#Task-1.-Compiling-Ebola-Data\"><span class=\"toc-item-num\">Task 1.&nbsp;&nbsp;</span>Compiling Ebola Data</a></div>\n",
    " <div class=\"lev1\"><a href=\"#Task-2.-RNA-Sequences\"><span class=\"toc-item-num\">Task 2.&nbsp;&nbsp;</span>RNA Sequences</a></div>\n",
    " <div class=\"lev1\"><a href=\"#Task-3.-Class-War-in-Titanic\"><span class=\"toc-item-num\">Task 3.&nbsp;&nbsp;</span>Class War in Titanic</a></div></p>"
   ]
  },
  {
   "cell_type": "code",
   "execution_count": 1711,
   "metadata": {
    "collapsed": true
   },
   "outputs": [],
   "source": [
    "import pandas as pd\n",
    "import numpy as np\n",
    "import glob, os\n",
    "import random\n",
    "pd.options.mode.chained_assignment = None"
   ]
  },
  {
   "cell_type": "code",
   "execution_count": 1712,
   "metadata": {},
   "outputs": [
    {
     "name": "stdout",
     "output_type": "stream",
     "text": [
      "cat: ../Data/ebola/sl_data/2014-10-04.csv: No such file or directory\r\n"
     ]
    }
   ],
   "source": [
    "!cat ../Data/ebola/sl_data/2014-10-04.csv "
   ]
  },
  {
   "cell_type": "code",
   "execution_count": 1713,
   "metadata": {
    "collapsed": true
   },
   "outputs": [],
   "source": [
    "DATA_FOLDER = '' # Use the data folder provided in Tutorial 02 - Intro to Pandas."
   ]
  },
  {
   "cell_type": "markdown",
   "metadata": {},
   "source": [
    "## Task 1. Compiling Ebola Data\n",
    "\n",
    "The `DATA_FOLDER/ebola` folder contains summarized reports of Ebola cases from three countries (Guinea, Liberia and Sierra Leone) during the recent outbreak of the disease in West Africa. For each country, there are daily reports that contain various information about the outbreak in several cities in each country.\n",
    "\n",
    "Use pandas to import these data files into a single `Dataframe`.\n",
    "Using this `DataFrame`, calculate for *each country*, the *daily average per month* of *new cases* and *deaths*.\n",
    "Make sure you handle all the different expressions for *new cases* and *deaths* that are used in the reports."
   ]
  },
  {
   "cell_type": "markdown",
   "metadata": {},
   "source": [
    "The sentence : \"Make sure you handle all the different expressions for new cases and deaths that are used in the reports\" is quite ambigious in our opinion and can be interpreted in two ways :\n",
    "- Either it means that we should compute the average for all the different new cases/deaths description that makes sense\n",
    "- "
   ]
  },
  {
   "cell_type": "markdown",
   "metadata": {},
   "source": [
    "### Assumptions"
   ]
  },
  {
   "cell_type": "markdown",
   "metadata": {},
   "source": [
    "In order to clean the data, we made the following assumptions : \n",
    "- A person, counted in one of the three categories (i.d. confirmed, suspect, probable) for deaths and cases, canno't be counted in another category. This reasonnable assumption means that we are not counting people multiple times when computing the means.\n",
    "- As told during the lab session, we consider the Totals/National field for each country as consistent with respect to the different region/cities reports"
   ]
  },
  {
   "cell_type": "markdown",
   "metadata": {},
   "source": [
    "### Loading the data for each country"
   ]
  },
  {
   "cell_type": "code",
   "execution_count": 1714,
   "metadata": {
    "collapsed": true
   },
   "outputs": [],
   "source": [
    "def load_country(country_name):\n",
    "    return pd.concat(map(pd.read_csv, glob.glob(r'../Data/ebola/' + country_name + '_data/*.csv')))"
   ]
  },
  {
   "cell_type": "code",
   "execution_count": 1715,
   "metadata": {},
   "outputs": [
    {
     "name": "stdout",
     "output_type": "stream",
     "text": [
      "Guinea: ['Beyla' 'Boffa' 'Conakry' 'Coyah' 'Dabola' 'Dalaba' 'Date' 'Description'\n",
      " 'Dinguiraye' 'Dubreka' 'Forecariah' 'Gueckedou' 'Kerouane' 'Kindia'\n",
      " 'Kissidougou' 'Kouroussa' 'Lola' 'Macenta' 'Mzerekore' 'Nzerekore' 'Pita'\n",
      " 'Siguiri' 'Telimele' 'Totals' 'Yomou']\n",
      "Liberia: ['Bomi County' 'Bong County' 'Date' 'Gbarpolu County' 'Grand Bassa'\n",
      " 'Grand Cape Mount' 'Grand Gedeh' 'Grand Kru' 'Lofa County'\n",
      " 'Margibi County' 'Maryland County' 'Montserrado County' 'National'\n",
      " 'Nimba County' 'River Gee County' 'RiverCess County' 'Sinoe County'\n",
      " 'Unnamed: 18' 'Variable']\n",
      "Sierra Leone: ['34 Military Hospital' 'Bo' 'Bo EMC' 'Bombali' 'Bonthe' 'Hastings-F/Town'\n",
      " 'Kailahun' 'Kambia' 'Kenema' 'Kenema (IFRC)' 'Kenema (KGH)' 'Koinadugu'\n",
      " 'Kono' 'Moyamba' 'National' 'Police training School'\n",
      " 'Police traning School' 'Port Loko' 'Pujehun' 'Tonkolili' 'Unnamed: 18'\n",
      " 'Western area' 'Western area combined' 'Western area rural'\n",
      " 'Western area urban' 'date' 'variable']\n"
     ]
    }
   ],
   "source": [
    "#Load the data into a dataframe for each country\n",
    "guinea_dataframe = load_country('guinea')\n",
    "liberia_dataframe = load_country('liberia')\n",
    "sierraleone_dataframe = load_country('sl')\n",
    "\n",
    "#Print columns label\n",
    "print('Guinea:', guinea_dataframe.columns.get_values())\n",
    "print('Liberia:', liberia_dataframe.columns.get_values())\n",
    "print('Sierra Leone:', sierraleone_dataframe.columns.get_values())"
   ]
  },
  {
   "cell_type": "markdown",
   "metadata": {},
   "source": [
    "### Removing duplicates"
   ]
  },
  {
   "cell_type": "code",
   "execution_count": 1716,
   "metadata": {
    "scrolled": true
   },
   "outputs": [
    {
     "name": "stdout",
     "output_type": "stream",
     "text": [
      "Guinea has duplicates ? False\n",
      "Liberia has duplicates ? True\n",
      "Sierra Leone has duplicates ? True\n"
     ]
    }
   ],
   "source": [
    "print('Guinea has duplicates ?', True in guinea_dataframe.duplicated(subset=['Date', 'Description']).values)\n",
    "print('Liberia has duplicates ?', True in liberia_dataframe.duplicated(subset=['Date', 'Variable']).values)\n",
    "print('Sierra Leone has duplicates ?', True in sierraleone_dataframe.duplicated(subset=['date', 'variable']).values)"
   ]
  },
  {
   "cell_type": "code",
   "execution_count": 1717,
   "metadata": {
    "collapsed": true
   },
   "outputs": [],
   "source": [
    "liberia_dataframe = liberia_dataframe.drop_duplicates(['Date', 'Variable'])\n",
    "sierraleone_dataframe = sierraleone_dataframe.drop_duplicates(['date', 'variable'])"
   ]
  },
  {
   "cell_type": "markdown",
   "metadata": {},
   "source": [
    "### Selecting the interesting descriptions/variables "
   ]
  },
  {
   "cell_type": "code",
   "execution_count": 1718,
   "metadata": {},
   "outputs": [
    {
     "name": "stdout",
     "output_type": "stream",
     "text": [
      "60\n",
      "45\n",
      "37\n"
     ]
    }
   ],
   "source": [
    "guinea_descriptions = set(guinea_dataframe.Description.values.tolist())\n",
    "liberia_descriptions = set(liberia_dataframe.Variable.values.tolist())\n",
    "sierraleone_descriptions = set(sierraleone_dataframe.variable.values.tolist())\n",
    "\n",
    "print(len(guinea_descriptions))\n",
    "print(len(liberia_descriptions))\n",
    "print(len(sierraleone_descriptions))"
   ]
  },
  {
   "cell_type": "code",
   "execution_count": 1719,
   "metadata": {
    "scrolled": true
   },
   "outputs": [
    {
     "name": "stdout",
     "output_type": "stream",
     "text": [
      "{'Number of suspects cases among health workers', 'Total cases of confirmed', 'New deaths registered today (suspects)', 'Total deaths of confirmed', 'Total PEC center today', 'Total number of male cases', 'Total deaths registered among health workers', 'Total suspected non-class cases', 'Total cases of probables', 'Number of male suspects cases', 'New cases of confirmed among health workers', 'New deaths registered today', 'Total deaths of suspects', 'Number of contacts out of track', 'New cases of probables', 'Number of death of confirmed cases among health workers', 'Number of contacts out of the track 21 days', 'Total number of exits from CTE', 'Total samples tested', 'Number of female probables cases', 'Number of contacts to follow today', 'Number of patients tested', 'Total PEC center today (suspects)', 'Number of deaths of confirmed cases among health workers', 'Total deaths of probables', 'Number of contacts followed yesterday', 'Total cases of suspects', 'New deaths registered today (probables)', 'Total deaths (confirmed + probables + suspects)', 'Total new cases registered so far', 'Number of contacts followed today', 'Total contacts registered from start date', 'Number of samples under test', 'Number of probables cases among health workers', 'New cases of confirmed', 'Number of female confirmed cases', 'Total PEC center today (confirmed)', 'Number of deaths of probables cases among health workers', 'New deaths registered', 'Total case of confirmed among health workers', 'Number of samples collected today', 'New deaths registered among health workers', 'Cumulative (confirmed + probable + suspects)', 'New cases of suspects', 'Total number of hospitalized cases in CTE', 'Number of confirmed cases among health workers', 'Number of samples collected', 'Total number of female cases', 'Number of male probables cases', 'New contacts registered so far', 'Number of female suspects cases', 'Total of cured in confirmed cases in CTE', 'Number of contacts lost to follow up', 'Total of deaths in confirmed cases in CTE', 'New admits to CTE so far', 'Total number of admissions to CTE', 'Fatality rate for confirmed and probables', 'New deaths registered today (confirmed)', 'Total PEC center today (probables)', 'Number of male confirmed cases'}\n"
     ]
    }
   ],
   "source": [
    "# All possible descriptions for guinea\n",
    "print(guinea_descriptions)\n",
    "\n",
    "# From which we decided to keep only the following descriptions\n",
    "filtered_guinea_descriptions = ['New cases of confirmed', \n",
    "                                'New cases of suspects', \n",
    "                                'New cases of probables',\n",
    "                                'Total deaths of confirmed',\n",
    "                                'Total deaths of suspects',\n",
    "                                'Total deaths of probables']\n",
    "\n",
    "# Will be useful later\n",
    "guinea_rename_dict = {'New cases of confirmed': 'guinea_new_confirmed',\n",
    "                      'New cases of suspects': 'guinea_new_suspects',\n",
    "                      'New cases of probables': 'guinea_new_probables',\n",
    "                      'Total deaths (confirmed + probables + suspects)': 'guinea_new_deaths',\n",
    "                      'Total deaths of confirmed': 'guinea_new_death_confirmed',\n",
    "                      'Total deaths of suspects': 'guinea_new_death_suspects',\n",
    "                      'Total deaths of probables': 'guinea_new_death_probables',\n",
    "                      'New deaths registered among health workers': 'guinea_new_deaths_health_workers',\n",
    "                      'New deaths registered today': 'guinea_new_deaths',\n",
    "                      'New deaths registered': 'guinea_new_deaths'}"
   ]
  },
  {
   "cell_type": "markdown",
   "metadata": {},
   "source": [
    "For guinea, the descriptions 'New deaths registered today (probables)' and 'New deaths registered today (suspects)' or not really interesting as there are only available for one day and equal to 0. Moreover the description 'New deaths registered today (confirmed)' is also available during only one day and is a redundancy of the description 'New deaths registered today'. Thus we decided to drop those descriptions."
   ]
  },
  {
   "cell_type": "code",
   "execution_count": 1720,
   "metadata": {
    "scrolled": true
   },
   "outputs": [
    {
     "name": "stdout",
     "output_type": "stream",
     "text": [
      "{'Specimens pending for testing', 'Total Number of Confirmed Cases of Sierra Leonean Nationality', 'New case/s (confirmed)', 'Total specimens tested', 'Total Number of Confirmed Cases \\n of Guinean Nationality', 'Cumulative cases among HCW', 'Contacts who completed 21 day follow-up', 'Newly Reported deaths in HCW', 'Total death/s in suspected cases', 'New Case/s (Suspected)', 'Total Number of Confirmed Cases \\n of Sierra Leonean Nationality', 'Total confirmed cases', 'Newly Reported Cases in HCW', 'Total Case/s (Probable)', 'New Case/s (Probable)', 'Case Fatality Rate (CFR) - Confirmed & Probable Cases', 'Total case/s (confirmed)', 'Contacts lost to follow-up', 'Total no. currently in Treatment \\n Units', 'Newly reported deaths', 'Currently under follow-up', 'Total discharges', 'Total suspected cases', 'Total Number of Confirmed Cases of Guinean Nationality', 'Cumulative CFR', 'Total death/s in confirmed, \\n probable, suspected cases', 'Total death/s in confirmed, probable, suspected cases', 'Total death/s in probable cases', 'New admissions', 'Cumulative deaths among HCW', 'Total no. currently in Treatment Units', 'Total Case/s (Suspected)', 'Cumulative (confirmed + probable + suspects)', 'Contacts who completed 21 day \\n follow-up', 'Contacts seen', 'Total death/s in confirmed cases', 'Cumulative confirmed, probable and suspected cases', 'Total contacts listed', 'Cumulative admission/isolation', 'Total probable cases', 'Total death/s in confirmed,  probable, suspected cases', 'Cumulative (confirmed + probable + suspected)', 'Specimens collected', 'Case Fatality Rate (CFR) - \\n Confirmed & Probable Cases', 'Newly reported contacts'}\n"
     ]
    }
   ],
   "source": [
    "#All possible descriptions for liberia\n",
    "print(liberia_descriptions)\n",
    "\n",
    "#From which we decided to keep only the following descriptions\n",
    "filtered_liberia_descriptions = ['New case/s (confirmed)', \n",
    "                                 'New Case/s (Suspected)', \n",
    "                                 'New Case/s (Probable)',\n",
    "                                 'Total death/s in confirmed cases',\n",
    "                                 'Total death/s in suspected cases',\n",
    "                                 'Total death/s in probable cases']\n",
    "\n",
    "liberia_rename_dict = {'New case/s (confirmed)': 'liberia_new_confirmed',\n",
    "                       'New Case/s (Suspected)': 'liberia_new_suspects',\n",
    "                       'New Case/s (Probable)': 'liberia_new_probables',\n",
    "                       'Total death/s in confirmed cases': 'liberia_new_deaths_confirmed',\n",
    "                       'Total death/s in suspected cases': 'liberia_new_deaths_suspected',\n",
    "                       'Total death/s in probable cases': 'liberia_new_deaths_probable',\n",
    "                       'Newly reported deaths': 'liberia_new_deaths',\n",
    "                       'Newly Reported deaths in HCW': 'liberia_new_deaths_hcw'}"
   ]
  },
  {
   "cell_type": "code",
   "execution_count": 1721,
   "metadata": {
    "scrolled": true
   },
   "outputs": [
    {
     "name": "stdout",
     "output_type": "stream",
     "text": [
      "{'cum_confirmed', 'new_contacts', 'new_probable', 'new_positive', 'death_probable', 'total_lab_samples', 'etc_cum_discharges', 'new_noncase', 'etc_cum_deaths', 'negative_corpse', 'new_suspected', 'etc_new_discharges', 'positive_corpse', 'death_suspected', 'repeat_samples', 'etc_cum_admission', 'cum_contacts', 'cum_suspected', 'cum_probable', 'pending', 'cum_noncase', 'death_confirmed', 'new_confirmed', 'cfr', 'new_samples', 'contacts_followed', 'etc_new_admission', 'percent_seen', 'contacts_healthy', 'cum_completed_contacts', 'new_negative', 'etc_new_deaths', 'contacts_not_seen', 'etc_currently_admitted', 'contacts_ill', 'population', 'new_completed_contacts'}\n"
     ]
    }
   ],
   "source": [
    "#All possible descriptions for Sierra Leone\n",
    "print(sierraleone_descriptions)\n",
    "\n",
    "#From which we decided to keep only the following descriptions\n",
    "filtered_sierraleone_descriptions = ['death_confirmed', 'death_probable', 'death_suspected',\n",
    "                                     'new_confirmed', 'new_probable', 'new_suspected']\n",
    "\n",
    "sierraleone_rename_dict = {'death_confirmed': 'sierraleone_death_confirmed',\n",
    "                           'death_suspected': 'sierraleone_death_suspected',\n",
    "                           'death_probable': 'sierraleone_death_probable',\n",
    "                           'new_confirmed': 'sierraleone_new_confirmed',\n",
    "                           'new_probable': 'sierraleone_new_probable',\n",
    "                           'new_suspected': 'sierraleone_new_suspected'}"
   ]
  },
  {
   "cell_type": "markdown",
   "metadata": {},
   "source": [
    "### Cleaning the dataframes"
   ]
  },
  {
   "cell_type": "code",
   "execution_count": null,
   "metadata": {
    "collapsed": true
   },
   "outputs": [],
   "source": []
  },
  {
   "cell_type": "code",
   "execution_count": 1722,
   "metadata": {
    "collapsed": true
   },
   "outputs": [],
   "source": [
    "guinea_dataframe = guinea_dataframe[['Date', 'Description', 'Totals']]\n",
    "liberia_dataframe = liberia_dataframe[['Date', 'Variable', 'National']]\n",
    "sierraleone_dataframe = sierraleone_dataframe[['date', 'variable', 'National']]"
   ]
  },
  {
   "cell_type": "code",
   "execution_count": 1723,
   "metadata": {},
   "outputs": [],
   "source": [
    "# Standardize the date field for each dataframe\n",
    "guinea_dataframe.Date = pd.to_datetime(guinea_dataframe.Date)\n",
    "liberia_dataframe.Date = pd.to_datetime(liberia_dataframe.Date)\n",
    "sierraleone_dataframe.date = pd.to_datetime(sierraleone_dataframe.date)\n",
    "\n",
    "# Keep only the insteresting variables/descriptions\n",
    "guinea_dataframe = guinea_dataframe[[des in filtered_guinea_descriptions for des in guinea_dataframe.Description]]\n",
    "liberia_dataframe = liberia_dataframe[[var in filtered_liberia_descriptions for var in liberia_dataframe.Variable]]\n",
    "sierraleone_dataframe = sierraleone_dataframe[[var in filtered_sierraleone_descriptions for var in sierraleone_dataframe.variable]]\n",
    "\n",
    "# Remove rows with missing value\n",
    "guinea_dataframe = guinea_dataframe.dropna()\n",
    "liberia_dataframe = liberia_dataframe.dropna()\n",
    "sierraleone_dataframe = sierraleone_dataframe.dropna()\n",
    "\n",
    "# Cast all values to int\n",
    "guinea_dataframe.Totals = guinea_dataframe.Totals.astype(int)\n",
    "liberia_dataframe.National = liberia_dataframe.National.astype(int)\n",
    "sierraleone_dataframe.National = sierraleone_dataframe.National.astype(int)\n",
    "\n",
    "# Rename all reports \n",
    "guinea_dataframe.Description = guinea_dataframe.Description.apply(lambda des: guinea_rename_dict[des]) \n",
    "liberia_dataframe.Variable = liberia_dataframe.Variable.apply(lambda var: liberia_rename_dict[var])\n",
    "sierraleone_dataframe.variable = sierraleone_dataframe.variable.apply(lambda var: sierraleone_rename_dict[var])\n"
   ]
  },
  {
   "cell_type": "markdown",
   "metadata": {},
   "source": [
    "#### Cleaning Guinea dataframe"
   ]
  },
  {
   "cell_type": "code",
   "execution_count": 1724,
   "metadata": {},
   "outputs": [],
   "source": [
    "def clean_cum_guinea(des_name, df):\n",
    "    r_df = df.copy()\n",
    "    guinea_parts_to_clean = r_df[r_df.Description == des_name]\n",
    "    guinea_parts_to_clean = guinea_parts_to_clean.set_index(['Date', 'Description']).sort_index()\n",
    "    \n",
    "    cleaned_guinea_parts = (guinea_parts_to_clean - guinea_parts_to_clean.shift(1))\n",
    "    \n",
    "    idx = pd.IndexSlice\n",
    "    r_df = r_df.set_index(['Date', 'Description']).sort_index()\n",
    "    r_df.loc[idx[:, [des_name]], :] = cleaned_guinea_parts\n",
    "    r_df = r_df.dropna().reset_index()\n",
    "    return r_df\n",
    "    \n",
    "guinea_dataframe = clean_cum_guinea('guinea_new_death_confirmed', guinea_dataframe)\n",
    "guinea_dataframe = clean_cum_guinea('guinea_new_death_suspects', guinea_dataframe)\n",
    "guinea_dataframe = clean_cum_guinea('guinea_new_death_probables', guinea_dataframe)"
   ]
  },
  {
   "cell_type": "markdown",
   "metadata": {},
   "source": [
    "#### Cleaning Liberia dataframe"
   ]
  },
  {
   "cell_type": "markdown",
   "metadata": {},
   "source": [
    "We can see, from the liberia datafame below, that some rows at the end are dirty. "
   ]
  },
  {
   "cell_type": "code",
   "execution_count": null,
   "metadata": {},
   "outputs": [],
   "source": []
  },
  {
   "cell_type": "code",
   "execution_count": 1725,
   "metadata": {},
   "outputs": [],
   "source": [
    "dirty_rows_liberia = liberia_dataframe[liberia_dataframe.Date > pd.datetime(2014, 12, 2)]\n",
    "dirty_rows_liberia = dirty_rows_liberia.set_index(['Date', 'Variable']).sort_index()\n",
    "\n",
    "cleaned_rows_liberia = dirty_rows_liberia - dirty_rows_liberia.shift(3)\n",
    "\n",
    "liberia_dataframe = liberia_dataframe.set_index(['Date', 'Variable']).sort_index()\n",
    "liberia_dataframe.loc[pd.datetime(2014, 12, 4):, :] = cleaned_rows_liberia\n",
    "liberia_dataframe = liberia_dataframe.dropna().reset_index()"
   ]
  },
  {
   "cell_type": "code",
   "execution_count": 1726,
   "metadata": {},
   "outputs": [],
   "source": [
    "def clean_cum_liberia(des_name, df):\n",
    "    r_df = df.copy()\n",
    "    liberia_parts_to_clean = r_df[r_df.Variable == des_name]\n",
    "    liberia_parts_to_clean = liberia_parts_to_clean.set_index(['Date', 'Variable']).sort_index()\n",
    "    \n",
    "    cleaned_liberia_parts = (liberia_parts_to_clean - liberia_parts_to_clean.shift(1))\n",
    "    \n",
    "    idx = pd.IndexSlice\n",
    "    r_df = r_df.set_index(['Date', 'Variable']).sort_index()\n",
    "    r_df.loc[idx[:, [des_name]], :] = cleaned_liberia_parts\n",
    "    r_df = r_df.dropna().reset_index()\n",
    "    return r_df\n",
    "\n",
    "liberia_dataframe = clean_cum_liberia('liberia_new_deaths_confirmed', liberia_dataframe)\n",
    "liberia_dataframe = clean_cum_liberia('liberia_new_deaths_suspected', liberia_dataframe)\n",
    "liberia_dataframe = clean_cum_liberia('liberia_new_deaths_probable', liberia_dataframe)"
   ]
  },
  {
   "cell_type": "code",
   "execution_count": null,
   "metadata": {
    "scrolled": true
   },
   "outputs": [],
   "source": []
  },
  {
   "cell_type": "markdown",
   "metadata": {},
   "source": [
    "#### Cleaning Sierra Leone dataframe"
   ]
  },
  {
   "cell_type": "code",
   "execution_count": 1727,
   "metadata": {},
   "outputs": [],
   "source": [
    "sierraleone_dataframe_copy = sierraleone_dataframe.copy().set_index(['date', 'variable']).unstack()\n",
    "tmp = sierraleone_dataframe.set_index(['date', 'variable']).unstack()\n",
    "tmp = tmp.National[['sierraleone_death_confirmed', 'sierraleone_death_probable', 'sierraleone_death_suspected']]\n",
    "cleaned = (tmp - tmp.shift(1)).fillna(value=0)\n",
    "\n",
    "sierraleone_dataframe_copy.National.loc[1:, ['sierraleone_death_confirmed', 'sierraleone_death_probable', 'sierraleone_death_suspected']] = cleaned[1:]\n",
    "sierraleone_dataframe = sierraleone_dataframe_copy.stack().reset_index()[3:]\n",
    "#tmp.National[['sierraleone_death_confirmed', 'sierraleone_death_probable', 'sierraleone_death_suspected']].loc[[pd.datetime(2014, 8, 12)]] = [pd.datetime(2014, 8, 12), np.NaN, np.NaN, np.NaN]\n"
   ]
  },
  {
   "cell_type": "code",
   "execution_count": 1728,
   "metadata": {},
   "outputs": [],
   "source": [
    "#Remove first three lines \n",
    "sierraleone_dataframe = sierraleone_dataframe[3:]"
   ]
  },
  {
   "cell_type": "code",
   "execution_count": null,
   "metadata": {},
   "outputs": [],
   "source": []
  },
  {
   "cell_type": "code",
   "execution_count": 1729,
   "metadata": {},
   "outputs": [],
   "source": [
    "#Keeps only the year and month of each report\n",
    "guinea_dataframe.Date = guinea_dataframe.Date.dt.to_period('M')\n",
    "liberia_dataframe.Date = liberia_dataframe.Date.dt.to_period('M')\n",
    "sierraleone_dataframe.date = sierraleone_dataframe.date.dt.to_period('M')"
   ]
  },
  {
   "cell_type": "code",
   "execution_count": 1730,
   "metadata": {},
   "outputs": [],
   "source": [
    "#Computes average for each month\n",
    "averages_guinea_dataframe = pd.DataFrame(guinea_dataframe.groupby(['Date', 'Description'])['Totals'].mean())\n",
    "averages_liberia_dataframe = pd.DataFrame(liberia_dataframe.groupby(['Date', 'Variable'])['National'].mean())\n",
    "averages_sierraleone_dataframe = pd.DataFrame(sierraleone_dataframe.groupby(['date', 'variable'])['National'].mean())\n",
    "\n",
    "#Remove index\n",
    "averages_guinea_dataframe = averages_guinea_dataframe.reset_index()\n",
    "averages_liberia_dataframe = averages_liberia_dataframe.reset_index()\n",
    "averages_sierraleone_dataframe = averages_sierraleone_dataframe.reset_index()\n",
    "\n",
    "#Rename columns\n",
    "averages_guinea_dataframe.columns = ['date', 'report', 'average']\n",
    "averages_liberia_dataframe.columns = ['date', 'report', 'average']\n",
    "averages_sierraleone_dataframe.columns = ['date', 'report', 'average']\n",
    "\n",
    "#Stack all averages into one dataframe\n",
    "all_averages_dataframe = pd.concat([averages_guinea_dataframe, averages_liberia_dataframe, averages_sierraleone_dataframe])\n",
    "\n",
    "#Sort final dataframe, set index and unstack result (for readibility reasons)\n",
    "all_averages_dataframe = all_averages_dataframe.sort_values(['date']).set_index(['date', 'report']).unstack()\n"
   ]
  },
  {
   "cell_type": "code",
   "execution_count": 1731,
   "metadata": {},
   "outputs": [
    {
     "data": {
      "text/html": [
       "<div>\n",
       "<style>\n",
       "    .dataframe thead tr:only-child th {\n",
       "        text-align: right;\n",
       "    }\n",
       "\n",
       "    .dataframe thead th {\n",
       "        text-align: left;\n",
       "    }\n",
       "\n",
       "    .dataframe tbody tr th {\n",
       "        vertical-align: top;\n",
       "    }\n",
       "</style>\n",
       "<table border=\"1\" class=\"dataframe\">\n",
       "  <thead>\n",
       "    <tr>\n",
       "      <th></th>\n",
       "      <th colspan=\"18\" halign=\"left\">average</th>\n",
       "    </tr>\n",
       "    <tr>\n",
       "      <th>report</th>\n",
       "      <th>guinea_new_confirmed</th>\n",
       "      <th>guinea_new_death_confirmed</th>\n",
       "      <th>guinea_new_death_probables</th>\n",
       "      <th>guinea_new_death_suspects</th>\n",
       "      <th>guinea_new_probables</th>\n",
       "      <th>guinea_new_suspects</th>\n",
       "      <th>liberia_new_confirmed</th>\n",
       "      <th>liberia_new_deaths_confirmed</th>\n",
       "      <th>liberia_new_deaths_probable</th>\n",
       "      <th>liberia_new_deaths_suspected</th>\n",
       "      <th>liberia_new_probables</th>\n",
       "      <th>liberia_new_suspects</th>\n",
       "      <th>sierraleone_death_confirmed</th>\n",
       "      <th>sierraleone_death_probable</th>\n",
       "      <th>sierraleone_death_suspected</th>\n",
       "      <th>sierraleone_new_confirmed</th>\n",
       "      <th>sierraleone_new_probable</th>\n",
       "      <th>sierraleone_new_suspected</th>\n",
       "    </tr>\n",
       "    <tr>\n",
       "      <th>date</th>\n",
       "      <th></th>\n",
       "      <th></th>\n",
       "      <th></th>\n",
       "      <th></th>\n",
       "      <th></th>\n",
       "      <th></th>\n",
       "      <th></th>\n",
       "      <th></th>\n",
       "      <th></th>\n",
       "      <th></th>\n",
       "      <th></th>\n",
       "      <th></th>\n",
       "      <th></th>\n",
       "      <th></th>\n",
       "      <th></th>\n",
       "      <th></th>\n",
       "      <th></th>\n",
       "      <th></th>\n",
       "    </tr>\n",
       "  </thead>\n",
       "  <tbody>\n",
       "    <tr>\n",
       "      <th>2014-06</th>\n",
       "      <td>NaN</td>\n",
       "      <td>NaN</td>\n",
       "      <td>NaN</td>\n",
       "      <td>NaN</td>\n",
       "      <td>NaN</td>\n",
       "      <td>NaN</td>\n",
       "      <td>2.142857</td>\n",
       "      <td>3.000000</td>\n",
       "      <td>0.666667</td>\n",
       "      <td>1.833333</td>\n",
       "      <td>1.142857</td>\n",
       "      <td>2.428571</td>\n",
       "      <td>NaN</td>\n",
       "      <td>NaN</td>\n",
       "      <td>NaN</td>\n",
       "      <td>NaN</td>\n",
       "      <td>NaN</td>\n",
       "      <td>NaN</td>\n",
       "    </tr>\n",
       "    <tr>\n",
       "      <th>2014-07</th>\n",
       "      <td>NaN</td>\n",
       "      <td>NaN</td>\n",
       "      <td>NaN</td>\n",
       "      <td>NaN</td>\n",
       "      <td>NaN</td>\n",
       "      <td>NaN</td>\n",
       "      <td>1.818182</td>\n",
       "      <td>3.636364</td>\n",
       "      <td>4.545455</td>\n",
       "      <td>0.545455</td>\n",
       "      <td>3.727273</td>\n",
       "      <td>3.000000</td>\n",
       "      <td>NaN</td>\n",
       "      <td>NaN</td>\n",
       "      <td>NaN</td>\n",
       "      <td>NaN</td>\n",
       "      <td>NaN</td>\n",
       "      <td>NaN</td>\n",
       "    </tr>\n",
       "    <tr>\n",
       "      <th>2014-08</th>\n",
       "      <td>12.4</td>\n",
       "      <td>27.250</td>\n",
       "      <td>4.2500</td>\n",
       "      <td>0.000000</td>\n",
       "      <td>2.0000</td>\n",
       "      <td>11.8000</td>\n",
       "      <td>5.444444</td>\n",
       "      <td>28.333333</td>\n",
       "      <td>32.222222</td>\n",
       "      <td>21.666667</td>\n",
       "      <td>19.777778</td>\n",
       "      <td>12.000000</td>\n",
       "      <td>7.235294</td>\n",
       "      <td>0.176471</td>\n",
       "      <td>0.352941</td>\n",
       "      <td>21.176471</td>\n",
       "      <td>1.294118</td>\n",
       "      <td>5.823529</td>\n",
       "    </tr>\n",
       "    <tr>\n",
       "      <th>2014-09</th>\n",
       "      <td>13.0</td>\n",
       "      <td>12.625</td>\n",
       "      <td>1.5625</td>\n",
       "      <td>11.133333</td>\n",
       "      <td>1.1875</td>\n",
       "      <td>5.4375</td>\n",
       "      <td>6.166667</td>\n",
       "      <td>26.391304</td>\n",
       "      <td>14.130435</td>\n",
       "      <td>10.478261</td>\n",
       "      <td>29.333333</td>\n",
       "      <td>28.333333</td>\n",
       "      <td>6.037037</td>\n",
       "      <td>0.000000</td>\n",
       "      <td>0.000000</td>\n",
       "      <td>36.962963</td>\n",
       "      <td>0.000000</td>\n",
       "      <td>7.000000</td>\n",
       "    </tr>\n",
       "    <tr>\n",
       "      <th>2014-10</th>\n",
       "      <td>6.0</td>\n",
       "      <td>23.000</td>\n",
       "      <td>2.0000</td>\n",
       "      <td>-169.000000</td>\n",
       "      <td>0.0000</td>\n",
       "      <td>28.0000</td>\n",
       "      <td>1.619048</td>\n",
       "      <td>36.833333</td>\n",
       "      <td>9.600000</td>\n",
       "      <td>12.200000</td>\n",
       "      <td>17.760000</td>\n",
       "      <td>26.440000</td>\n",
       "      <td>18.571429</td>\n",
       "      <td>6.107143</td>\n",
       "      <td>5.214286</td>\n",
       "      <td>56.714286</td>\n",
       "      <td>0.888889</td>\n",
       "      <td>13.851852</td>\n",
       "    </tr>\n",
       "    <tr>\n",
       "      <th>2014-11</th>\n",
       "      <td>NaN</td>\n",
       "      <td>NaN</td>\n",
       "      <td>NaN</td>\n",
       "      <td>NaN</td>\n",
       "      <td>NaN</td>\n",
       "      <td>NaN</td>\n",
       "      <td>7.800000</td>\n",
       "      <td>-1149.000000</td>\n",
       "      <td>-723.000000</td>\n",
       "      <td>-516.000000</td>\n",
       "      <td>8.076923</td>\n",
       "      <td>19.461538</td>\n",
       "      <td>22.421053</td>\n",
       "      <td>0.000000</td>\n",
       "      <td>0.052632</td>\n",
       "      <td>66.210526</td>\n",
       "      <td>0.000000</td>\n",
       "      <td>23.000000</td>\n",
       "    </tr>\n",
       "    <tr>\n",
       "      <th>2014-12</th>\n",
       "      <td>NaN</td>\n",
       "      <td>NaN</td>\n",
       "      <td>NaN</td>\n",
       "      <td>NaN</td>\n",
       "      <td>NaN</td>\n",
       "      <td>NaN</td>\n",
       "      <td>12.714286</td>\n",
       "      <td>NaN</td>\n",
       "      <td>NaN</td>\n",
       "      <td>NaN</td>\n",
       "      <td>2.857143</td>\n",
       "      <td>5.571429</td>\n",
       "      <td>53.000000</td>\n",
       "      <td>0.000000</td>\n",
       "      <td>0.000000</td>\n",
       "      <td>54.333333</td>\n",
       "      <td>0.000000</td>\n",
       "      <td>14.000000</td>\n",
       "    </tr>\n",
       "  </tbody>\n",
       "</table>\n",
       "</div>"
      ],
      "text/plain": [
       "                     average                             \\\n",
       "report  guinea_new_confirmed guinea_new_death_confirmed   \n",
       "date                                                      \n",
       "2014-06                  NaN                        NaN   \n",
       "2014-07                  NaN                        NaN   \n",
       "2014-08                 12.4                     27.250   \n",
       "2014-09                 13.0                     12.625   \n",
       "2014-10                  6.0                     23.000   \n",
       "2014-11                  NaN                        NaN   \n",
       "2014-12                  NaN                        NaN   \n",
       "\n",
       "                                                              \\\n",
       "report  guinea_new_death_probables guinea_new_death_suspects   \n",
       "date                                                           \n",
       "2014-06                        NaN                       NaN   \n",
       "2014-07                        NaN                       NaN   \n",
       "2014-08                     4.2500                  0.000000   \n",
       "2014-09                     1.5625                 11.133333   \n",
       "2014-10                     2.0000               -169.000000   \n",
       "2014-11                        NaN                       NaN   \n",
       "2014-12                        NaN                       NaN   \n",
       "\n",
       "                                                                        \\\n",
       "report  guinea_new_probables guinea_new_suspects liberia_new_confirmed   \n",
       "date                                                                     \n",
       "2014-06                  NaN                 NaN              2.142857   \n",
       "2014-07                  NaN                 NaN              1.818182   \n",
       "2014-08               2.0000             11.8000              5.444444   \n",
       "2014-09               1.1875              5.4375              6.166667   \n",
       "2014-10               0.0000             28.0000              1.619048   \n",
       "2014-11                  NaN                 NaN              7.800000   \n",
       "2014-12                  NaN                 NaN             12.714286   \n",
       "\n",
       "                                                                  \\\n",
       "report  liberia_new_deaths_confirmed liberia_new_deaths_probable   \n",
       "date                                                               \n",
       "2014-06                     3.000000                    0.666667   \n",
       "2014-07                     3.636364                    4.545455   \n",
       "2014-08                    28.333333                   32.222222   \n",
       "2014-09                    26.391304                   14.130435   \n",
       "2014-10                    36.833333                    9.600000   \n",
       "2014-11                 -1149.000000                 -723.000000   \n",
       "2014-12                          NaN                         NaN   \n",
       "\n",
       "                                                            \\\n",
       "report  liberia_new_deaths_suspected liberia_new_probables   \n",
       "date                                                         \n",
       "2014-06                     1.833333              1.142857   \n",
       "2014-07                     0.545455              3.727273   \n",
       "2014-08                    21.666667             19.777778   \n",
       "2014-09                    10.478261             29.333333   \n",
       "2014-10                    12.200000             17.760000   \n",
       "2014-11                  -516.000000              8.076923   \n",
       "2014-12                          NaN              2.857143   \n",
       "\n",
       "                                                          \\\n",
       "report  liberia_new_suspects sierraleone_death_confirmed   \n",
       "date                                                       \n",
       "2014-06             2.428571                         NaN   \n",
       "2014-07             3.000000                         NaN   \n",
       "2014-08            12.000000                    7.235294   \n",
       "2014-09            28.333333                    6.037037   \n",
       "2014-10            26.440000                   18.571429   \n",
       "2014-11            19.461538                   22.421053   \n",
       "2014-12             5.571429                   53.000000   \n",
       "\n",
       "                                                                \\\n",
       "report  sierraleone_death_probable sierraleone_death_suspected   \n",
       "date                                                             \n",
       "2014-06                        NaN                         NaN   \n",
       "2014-07                        NaN                         NaN   \n",
       "2014-08                   0.176471                    0.352941   \n",
       "2014-09                   0.000000                    0.000000   \n",
       "2014-10                   6.107143                    5.214286   \n",
       "2014-11                   0.000000                    0.052632   \n",
       "2014-12                   0.000000                    0.000000   \n",
       "\n",
       "                                                            \\\n",
       "report  sierraleone_new_confirmed sierraleone_new_probable   \n",
       "date                                                         \n",
       "2014-06                       NaN                      NaN   \n",
       "2014-07                       NaN                      NaN   \n",
       "2014-08                 21.176471                 1.294118   \n",
       "2014-09                 36.962963                 0.000000   \n",
       "2014-10                 56.714286                 0.888889   \n",
       "2014-11                 66.210526                 0.000000   \n",
       "2014-12                 54.333333                 0.000000   \n",
       "\n",
       "                                   \n",
       "report  sierraleone_new_suspected  \n",
       "date                               \n",
       "2014-06                       NaN  \n",
       "2014-07                       NaN  \n",
       "2014-08                  5.823529  \n",
       "2014-09                  7.000000  \n",
       "2014-10                 13.851852  \n",
       "2014-11                 23.000000  \n",
       "2014-12                 14.000000  "
      ]
     },
     "execution_count": 1731,
     "metadata": {},
     "output_type": "execute_result"
    }
   ],
   "source": [
    "all_averages_dataframe"
   ]
  },
  {
   "cell_type": "code",
   "execution_count": null,
   "metadata": {},
   "outputs": [],
   "source": []
  },
  {
   "cell_type": "code",
   "execution_count": null,
   "metadata": {},
   "outputs": [],
   "source": []
  },
  {
   "cell_type": "markdown",
   "metadata": {},
   "source": [
    "#### Cleaning the date columns"
   ]
  },
  {
   "cell_type": "markdown",
   "metadata": {},
   "source": [
    "jk"
   ]
  },
  {
   "cell_type": "markdown",
   "metadata": {},
   "source": [
    "## Task 2. RNA Sequences\n",
    "\n",
    "In the `DATA_FOLDER/microbiome` subdirectory, there are 9 spreadsheets of microbiome data that was acquired from high-throughput RNA sequencing procedures, along with a 10<sup>th</sup> file that describes the content of each. \n",
    "\n",
    "Use pandas to import the first 9 spreadsheets into a single `DataFrame`.\n",
    "Then, add the metadata information from the 10<sup>th</sup> spreadsheet as columns in the combined `DataFrame`.\n",
    "Make sure that the final `DataFrame` has a unique index and all the `NaN` values have been replaced by the tag `unknown`."
   ]
  },
  {
   "cell_type": "code",
   "execution_count": null,
   "metadata": {
    "collapsed": true
   },
   "outputs": [],
   "source": [
    "# Write your answer here"
   ]
  },
  {
   "cell_type": "markdown",
   "metadata": {},
   "source": [
    "## Task 3. Class War in Titanic\n",
    "\n",
    "Use pandas to import the data file `Data/titanic.xls`. It contains data on all the passengers that travelled on the Titanic."
   ]
  },
  {
   "cell_type": "code",
   "execution_count": null,
   "metadata": {
    "collapsed": true
   },
   "outputs": [],
   "source": [
    "from IPython.core.display import HTML\n",
    "HTML(filename=DATA_FOLDER+'/titanic.html')"
   ]
  },
  {
   "cell_type": "markdown",
   "metadata": {},
   "source": [
    "For each of the following questions state clearly your assumptions and discuss your findings:\n",
    "1. Describe the *type* and the *value range* of each attribute. Indicate and transform the attributes that can be `Categorical`. \n",
    "2. Plot histograms for the *travel class*, *embarkation port*, *sex* and *age* attributes. For the latter one, use *discrete decade intervals*. \n",
    "3. Calculate the proportion of passengers by *cabin floor*. Present your results in a *pie chart*.\n",
    "4. For each *travel class*, calculate the proportion of the passengers that survived. Present your results in *pie charts*.\n",
    "5. Calculate the proportion of the passengers that survived by *travel class* and *sex*. Present your results in *a single histogram*.\n",
    "6. Create 2 equally populated *age categories* and calculate survival proportions by *age category*, *travel class* and *sex*. Present your results in a `DataFrame` with unique index."
   ]
  },
  {
   "cell_type": "code",
   "execution_count": null,
   "metadata": {
    "collapsed": true
   },
   "outputs": [],
   "source": [
    "# Write your answer here"
   ]
  }
 ],
 "metadata": {
  "kernelspec": {
   "display_name": "Python 3",
   "language": "python",
   "name": "python3"
  },
  "language_info": {
   "codemirror_mode": {
    "name": "ipython",
    "version": 3
   },
   "file_extension": ".py",
   "mimetype": "text/x-python",
   "name": "python",
   "nbconvert_exporter": "python",
   "pygments_lexer": "ipython3",
   "version": "3.6.2"
  }
 },
 "nbformat": 4,
 "nbformat_minor": 2
}
